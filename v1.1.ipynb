{
 "cells": [
  {
   "cell_type": "markdown",
   "metadata": {},
   "source": [
    "# COMP 541 - Deep Learning Course Fall 2020\n",
    "## Project\n",
    "### Berk Güler - berkguler20@ku.edu.tr"
   ]
  },
  {
   "cell_type": "code",
   "execution_count": 3,
   "metadata": {},
   "outputs": [
    {
     "name": "stderr",
     "output_type": "stream",
     "text": [
      "\u001b[32m\u001b[1m  Resolving\u001b[22m\u001b[39m package versions...\n",
      "\u001b[32m\u001b[1mNo Changes\u001b[22m\u001b[39m to `C:\\Users\\berkg\\.julia\\environments\\v1.5\\Project.toml`\n",
      "\u001b[32m\u001b[1mNo Changes\u001b[22m\u001b[39m to `C:\\Users\\berkg\\.julia\\environments\\v1.5\\Manifest.toml`\n"
     ]
    },
    {
     "data": {
      "text/plain": [
       "7-element Array{String,1}:\n",
       " \"doganay_experiment\"\n",
       " \"idil_experiment\"\n",
       " \"istenc_experiment\"\n",
       " \"omer_experiment\"\n",
       " \"ozan_experiment\"\n",
       " \"yahya_experiment\"\n",
       " \"zaid_experiment\""
      ]
     },
     "execution_count": 3,
     "metadata": {},
     "output_type": "execute_result"
    }
   ],
   "source": [
    "import Pkg; Pkg.add(\"IterTools\")\n",
    "using Knet: Knet, dir, accuracy, progress, sgd, load, save, gc, Param, KnetArray, Data, minibatch, nll, relu, training, dropout\n",
    "using Statistics: mean\n",
    "using Base.Iterators: flatten\n",
    "using IterTools: ncycle, takenth\n",
    "using Plots\n",
    "using DelimitedFiles, Statistics, Random\n",
    "dataset_directory_path = \"../Tubitak ANN/DATA\"\n",
    "dataset_directory = filter(x -> isdir(joinpath(dataset_directory_path, x)), readdir(dataset_directory_path))"
   ]
  },
  {
   "cell_type": "markdown",
   "metadata": {},
   "source": [
    "## Data Preprocessing"
   ]
  },
  {
   "cell_type": "code",
   "execution_count": 22,
   "metadata": {},
   "outputs": [
    {
     "data": {
      "text/plain": [
       "split_and_convert (generic function with 1 method)"
      ]
     },
     "execution_count": 22,
     "metadata": {},
     "output_type": "execute_result"
    }
   ],
   "source": [
    "function split_and_convert(string_array)\n",
    "    Rlength = length(string_array)\n",
    "    Clength = length(split(string_array[1],\",\"))\n",
    "    Mdata = zeros(Float64,Rlength,Clength)\n",
    "    for i in 1:Rlength\n",
    "        row =  map(x->tryparse(Float64,x),split(string_array[i],\",\"))\n",
    "        Mdata[i,:] = row\n",
    "    end\n",
    "    return Mdata\n",
    "end"
   ]
  },
  {
   "cell_type": "code",
   "execution_count": 5,
   "metadata": {},
   "outputs": [
    {
     "data": {
      "text/plain": [
       "take_derivative (generic function with 1 method)"
      ]
     },
     "execution_count": 5,
     "metadata": {},
     "output_type": "execute_result"
    }
   ],
   "source": [
    "## Computing the Derivative of X to get Velocity\n",
    "function take_derivative(x,t)\n",
    "   v = zeros(size(t))\n",
    "   for i in 2:length(t)\n",
    "       velocity = (x[i] - x[i-1])/(t[i]-t[i-1])\n",
    "       isnan(velocity) ? v[i] = 0 : v[i] = velocity\n",
    "    end\n",
    "    return v\n",
    "end"
   ]
  },
  {
   "cell_type": "markdown",
   "metadata": {},
   "source": [
    "## Read and Assign all of the data"
   ]
  },
  {
   "cell_type": "code",
   "execution_count": 30,
   "metadata": {},
   "outputs": [],
   "source": [
    "test_data = Array{Float64}(undef,0,9)\n",
    "train_data = Array{Float64}(undef,0,9)\n",
    "\n",
    "for participant_index in 1:length(dataset_directory)\n",
    "    #Participants: 1.doganay 2.idil 3.istenc 4.omer 5.ozan 6.yahya 7.zaid\n",
    "    participant_directory_path = joinpath(dataset_directory_path,dataset_directory[participant_index])\n",
    "    participant_directory = readdir(participant_directory_path)\n",
    "    if participant_index != 5\n",
    "        for raw_txt_files in participant_directory\n",
    "            txt_file_directory_path = joinpath(participant_directory_path, raw_txt_files)\n",
    "            txt_file_directory = readdir(txt_file_directory_path)\n",
    "\n",
    "            raw_data_file = open(joinpath(txt_file_directory_path,txt_file_directory[4]))\n",
    "            raw_data = split_and_convert(readlines(raw_data_file))\n",
    "            close(raw_data_file)\n",
    "            # Position Velocity F_fint F_int F_h m b a subtask \n",
    "            #     1        2       3     4    5  6 7 8    9       \n",
    "            train_data = [train_data; raw_data]\n",
    "        end\n",
    "    else\n",
    "        for raw_txt_files in participant_directory\n",
    "            txt_file_directory_path = joinpath(participant_directory_path, raw_txt_files)\n",
    "            txt_file_directory = readdir(txt_file_directory_path)\n",
    "\n",
    "            raw_data_file = open(joinpath(txt_file_directory_path,txt_file_directory[4]))\n",
    "            raw_data = split_and_convert(readlines(raw_data_file))\n",
    "            close(raw_data_file)\n",
    "            # Position Velocity F_fint F_int F_h m b a subtask \n",
    "            #     1        2       3     4    5  6 7 8    9       \n",
    "            test_data = [test_data; raw_data]\n",
    "        end\n",
    "    end\n",
    "end"
   ]
  },
  {
   "cell_type": "code",
   "execution_count": 36,
   "metadata": {},
   "outputs": [
    {
     "data": {
      "text/plain": [
       "25"
      ]
     },
     "execution_count": 36,
     "metadata": {},
     "output_type": "execute_result"
    }
   ],
   "source": [
    "time_history = 25;"
   ]
  },
  {
   "cell_type": "code",
   "execution_count": null,
   "metadata": {},
   "outputs": [],
   "source": []
  },
  {
   "cell_type": "code",
   "execution_count": null,
   "metadata": {},
   "outputs": [],
   "source": []
  }
 ],
 "metadata": {
  "@webio": {
   "lastCommId": null,
   "lastKernelId": null
  },
  "kernelspec": {
   "display_name": "Julia 1.5.2",
   "language": "julia",
   "name": "julia-1.5"
  },
  "language_info": {
   "file_extension": ".jl",
   "mimetype": "application/julia",
   "name": "julia",
   "version": "1.5.2"
  }
 },
 "nbformat": 4,
 "nbformat_minor": 4
}
