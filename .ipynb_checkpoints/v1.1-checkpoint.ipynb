{
 "cells": [
  {
   "cell_type": "markdown",
   "metadata": {},
   "source": [
    "# COMP 541 - Deep Learning Course Fall 2020\n",
    "## Project\n",
    "### Berk Güler - berkguler20@ku.edu.tr"
   ]
  },
  {
   "cell_type": "code",
   "execution_count": 36,
   "metadata": {},
   "outputs": [
    {
     "name": "stderr",
     "output_type": "stream",
     "text": [
      "\u001b[32m\u001b[1m  Resolving\u001b[22m\u001b[39m package versions...\n",
      "\u001b[32m\u001b[1mNo Changes\u001b[22m\u001b[39m to `C:\\Users\\berkg\\.julia\\environments\\v1.5\\Project.toml`\n",
      "\u001b[32m\u001b[1mNo Changes\u001b[22m\u001b[39m to `C:\\Users\\berkg\\.julia\\environments\\v1.5\\Manifest.toml`\n",
      "\u001b[32m\u001b[1m  Resolving\u001b[22m\u001b[39m package versions...\n",
      "\u001b[32m\u001b[1mNo Changes\u001b[22m\u001b[39m to `C:\\Users\\berkg\\.julia\\environments\\v1.5\\Project.toml`\n",
      "\u001b[32m\u001b[1mNo Changes\u001b[22m\u001b[39m to `C:\\Users\\berkg\\.julia\\environments\\v1.5\\Manifest.toml`\n",
      "\u001b[32m\u001b[1m  Resolving\u001b[22m\u001b[39m package versions...\n",
      "\u001b[32m\u001b[1mNo Changes\u001b[22m\u001b[39m to `C:\\Users\\berkg\\.julia\\environments\\v1.5\\Project.toml`\n",
      "\u001b[32m\u001b[1mNo Changes\u001b[22m\u001b[39m to `C:\\Users\\berkg\\.julia\\environments\\v1.5\\Manifest.toml`\n",
      "\u001b[32m\u001b[1m  Resolving\u001b[22m\u001b[39m package versions...\n",
      "\u001b[32m\u001b[1mUpdating\u001b[22m\u001b[39m `C:\\Users\\berkg\\.julia\\environments\\v1.5\\Project.toml`\n",
      " \u001b[90m [052768ef] \u001b[39m\u001b[92m+ CUDA v2.2.1\u001b[39m\n",
      "\u001b[32m\u001b[1mNo Changes\u001b[22m\u001b[39m to `C:\\Users\\berkg\\.julia\\environments\\v1.5\\Manifest.toml`\n"
     ]
    },
    {
     "data": {
      "text/plain": [
       "7-element Array{String,1}:\n",
       " \"doganay_experiment\"\n",
       " \"idil_experiment\"\n",
       " \"istenc_experiment\"\n",
       " \"omer_experiment\"\n",
       " \"ozan_experiment\"\n",
       " \"yahya_experiment\"\n",
       " \"zaid_experiment\""
      ]
     },
     "execution_count": 36,
     "metadata": {},
     "output_type": "execute_result"
    }
   ],
   "source": [
    "import Pkg; Pkg.add(\"IterTools\"); Pkg.add(\"Knet\"); Pkg.add(\"Plots\"); Pkg.add(\"CUDA\")\n",
    "using Knet: Knet, dir, accuracy, progress, sgd, load, save, gc, Param, KnetArray, Data, minibatch, nll, relu, training, dropout\n",
    "using Statistics: mean\n",
    "using Base.Iterators: flatten\n",
    "using IterTools: ncycle, takenth\n",
    "using Plots\n",
    "using DelimitedFiles, Statistics, Random\n",
    "import CUDA\n",
    "array_type=(CUDA.functional() ? KnetArray{Float32} : Array{Float32})\n",
    "dataset_directory_path = \"../Tubitak ANN/DATA\"\n",
    "dataset_directory = filter(x -> isdir(joinpath(dataset_directory_path, x)), readdir(dataset_directory_path))"
   ]
  },
  {
   "cell_type": "markdown",
   "metadata": {},
   "source": [
    "## Data Preprocessing"
   ]
  },
  {
   "cell_type": "markdown",
   "metadata": {},
   "source": [
    "## Read and Assign all of the data"
   ]
  },
  {
   "cell_type": "code",
   "execution_count": 5,
   "metadata": {},
   "outputs": [],
   "source": [
    "test_data = Array{Float64}(undef,0,9)\n",
    "train_data = Array{Float64}(undef,0,9)\n",
    "\n",
    "for participant_index in 1:length(dataset_directory)\n",
    "    #Participants: 1.doganay 2.idil 3.istenc 4.omer 5.ozan 6.yahya 7.zaid\n",
    "    participant_directory_path = joinpath(dataset_directory_path,dataset_directory[participant_index])\n",
    "    participant_directory = readdir(participant_directory_path)\n",
    "    if participant_index != 5\n",
    "        for raw_txt_files in participant_directory\n",
    "            txt_file_directory_path = joinpath(participant_directory_path, raw_txt_files)\n",
    "            txt_file_directory = readdir(txt_file_directory_path)\n",
    "\n",
    "            raw_data_file = open(joinpath(txt_file_directory_path,txt_file_directory[4]))\n",
    "            raw_data = split_and_convert(readlines(raw_data_file))\n",
    "            close(raw_data_file)\n",
    "            # Position Velocity F_fint F_int F_h m b a subtask \n",
    "            #     1        2       3     4    5  6 7 8    9       \n",
    "            train_data = [train_data; raw_data]\n",
    "        end\n",
    "    else\n",
    "        for raw_txt_files in participant_directory\n",
    "            txt_file_directory_path = joinpath(participant_directory_path, raw_txt_files)\n",
    "            txt_file_directory = readdir(txt_file_directory_path)\n",
    "\n",
    "            raw_data_file = open(joinpath(txt_file_directory_path,txt_file_directory[4]))\n",
    "            raw_data = split_and_convert(readlines(raw_data_file))\n",
    "            close(raw_data_file)\n",
    "            # Position Velocity F_fint F_int F_h m b a subtask \n",
    "            #     1        2       3     4    5  6 7 8    9       \n",
    "            test_data = [test_data; raw_data]\n",
    "        end\n",
    "    end\n",
    "end"
   ]
  },
  {
   "cell_type": "code",
   "execution_count": 6,
   "metadata": {},
   "outputs": [
    {
     "data": {
      "text/plain": [
       "Array{Float64,N} where N"
      ]
     },
     "execution_count": 6,
     "metadata": {},
     "output_type": "execute_result"
    }
   ],
   "source": [
    "time_history = 25;\n",
    "ARRAY = Array{Float64}"
   ]
  },
  {
   "cell_type": "code",
   "execution_count": 7,
   "metadata": {
    "scrolled": true
   },
   "outputs": [
    {
     "data": {
      "text/plain": [
       "onehot (generic function with 1 method)"
      ]
     },
     "execution_count": 7,
     "metadata": {},
     "output_type": "execute_result"
    }
   ],
   "source": [
    "onehot(y) = (m = zeros(eltype(ARRAY),length(y),3); for i in 1:length(y);  m[i,y[i]]=1; end; ARRAY(m))"
   ]
  },
  {
   "cell_type": "code",
   "execution_count": 65,
   "metadata": {},
   "outputs": [
    {
     "data": {
      "text/plain": [
       "normalize (generic function with 1 method)"
      ]
     },
     "execution_count": 65,
     "metadata": {},
     "output_type": "execute_result"
    }
   ],
   "source": [
    "function normalize(x)\n",
    "    return (x .- mean(x,dims=1)) ./ std(x,dims=1);\n",
    "end"
   ]
  },
  {
   "cell_type": "code",
   "execution_count": 73,
   "metadata": {},
   "outputs": [],
   "source": [
    "y_train = onehot(convert(Array{Int64},train_data[:,end]));\n",
    "y_test = onehot(convert(Array{Int64},test_data[:,end]));\n",
    "x_train = [normalize(train_data[:,2]) normalize(train_data[:,3]) normalize(train_data[:,5])];\n",
    "x_test =[normalize(test_data[:,2]) normalize(test_data[:,3]) normalize(test_data[:,5])];"
   ]
  },
  {
   "cell_type": "code",
   "execution_count": 74,
   "metadata": {},
   "outputs": [
    {
     "name": "stdout",
     "output_type": "stream",
     "text": [
      "(474619, 3)(86220, 3)(474619, 3)(86220, 3)"
     ]
    }
   ],
   "source": [
    "print(size(x_train),size(x_test),size(y_train),size(y_test))"
   ]
  },
  {
   "cell_type": "code",
   "execution_count": 75,
   "metadata": {},
   "outputs": [
    {
     "data": {
      "text/plain": [
       "0-element Data{Tuple{KnetArray{Float32,N} where N,KnetArray{Float32,N} where N}}"
      ]
     },
     "execution_count": 75,
     "metadata": {},
     "output_type": "execute_result"
    }
   ],
   "source": [
    "dtrn = minibatch(x_train,y_train,1000)\n",
    "dtst = minibatch(x_test,y_test,1000)"
   ]
  },
  {
   "cell_type": "code",
   "execution_count": 98,
   "metadata": {},
   "outputs": [
    {
     "data": {
      "text/plain": [
       "trainresults (generic function with 2 methods)"
      ]
     },
     "execution_count": 98,
     "metadata": {},
     "output_type": "execute_result"
    }
   ],
   "source": [
    "# For running experiments\n",
    "function trainresults(dtrn,dtst,model)\n",
    "        r = ((model(dtrn), model(dtst), 1-accuracy(model,dtrn), 1-accuracy(model,dtst))\n",
    "             for x in takenth(progress(sgd(model,ncycle(dtrn,1000))),length(dtrn)))\n",
    "        r = reshape(collect(Float32,flatten(r)),(4,:))\n",
    "        Knet.save(file,\"results\",r)\n",
    "        GC.gc(true) # To save gpu memory\n",
    "    println(minimum(r,dims=2))\n",
    "    return r\n",
    "end"
   ]
  },
  {
   "cell_type": "code",
   "execution_count": 99,
   "metadata": {},
   "outputs": [
    {
     "data": {
      "text/plain": [
       "xavier_uniform (generic function with 1 method)"
      ]
     },
     "execution_count": 99,
     "metadata": {},
     "output_type": "execute_result"
    }
   ],
   "source": [
    "# Some utilities to make model definitions easier:\n",
    "param(d...; init=xavier_uniform, atype=array_type)=Param(atype(init(d...)))\n",
    "param0(d...; atype=array_type)=param(d...; init=zeros, atype=atype)\n",
    "xavier_uniform(o,i) = (s = sqrt(2/(i+o)); 2s .* rand(o,i) .- s)"
   ]
  },
  {
   "cell_type": "code",
   "execution_count": 100,
   "metadata": {},
   "outputs": [],
   "source": [
    "struct Chain\n",
    "    layers\n",
    "    Chain(layers...) = new(layers)\n",
    "end\n",
    "(c::Chain)(x) = (for l in c.layers; x = l(x); end; x)\n",
    "(c::Chain)(x,y) = nll(c(x),y)\n",
    "(c::Chain)(d::Data) = mean(c(x,y) for (x,y) in d)"
   ]
  },
  {
   "cell_type": "code",
   "execution_count": 101,
   "metadata": {},
   "outputs": [],
   "source": [
    "struct Layer0; w; b; end\n",
    "Layer0(i::Int,o::Int) = Layer0(param(o,i),param0(o))\n",
    "(l::Layer0)(x) = (l.w * x .+ l.b)"
   ]
  },
  {
   "cell_type": "code",
   "execution_count": 102,
   "metadata": {},
   "outputs": [
    {
     "name": "stdout",
     "output_type": "stream",
     "text": [
      "(\"64×784 Param{KnetArray{Float32,2}}\", \"64-element Param{KnetArray{Float32,1}}\")\n",
      "(\"10×64 Param{KnetArray{Float32,2}}\", \"10-element Param{KnetArray{Float32,1}}\")\n"
     ]
    }
   ],
   "source": [
    "model=Chain(Layer0(784,64), Layer0(64,10))\n",
    "println.(summary.((l.w,l.b)) for l in model.layers);"
   ]
  },
  {
   "cell_type": "code",
   "execution_count": 103,
   "metadata": {},
   "outputs": [
    {
     "ename": "LoadError",
     "evalue": "ArgumentError: expected interval to be 1 or more, got 0",
     "output_type": "error",
     "traceback": [
      "ArgumentError: expected interval to be 1 or more, got 0",
      "",
      "Stacktrace:",
      " [1] takenth(::Knet.Train20.Progress{Knet.Train20.Minimize{IterTools.NCycle{Data{Tuple{KnetArray{Float32,N} where N,KnetArray{Float32,N} where N}}}}}, ::Int64) at C:\\Users\\berkg\\.julia\\packages\\IterTools\\0dYLc\\src\\IterTools.jl:675",
      " [2] trainresults(::Data{Tuple{KnetArray{Float32,N} where N,KnetArray{Float32,N} where N}}, ::Data{Tuple{KnetArray{Float32,N} where N,KnetArray{Float32,N} where N}}, ::Chain) at .\\In[98]:3",
      " [3] top-level scope at In[103]:1",
      " [4] include_string(::Function, ::Module, ::String, ::String) at .\\loading.jl:1091",
      " [5] execute_code(::String, ::String) at C:\\Users\\berkg\\.julia\\packages\\IJulia\\rWZ9e\\src\\execute_request.jl:27",
      " [6] execute_request(::ZMQ.Socket, ::IJulia.Msg) at C:\\Users\\berkg\\.julia\\packages\\IJulia\\rWZ9e\\src\\execute_request.jl:86",
      " [7] #invokelatest#1 at .\\essentials.jl:710 [inlined]",
      " [8] invokelatest at .\\essentials.jl:709 [inlined]",
      " [9] eventloop(::ZMQ.Socket) at C:\\Users\\berkg\\.julia\\packages\\IJulia\\rWZ9e\\src\\eventloop.jl:8",
      " [10] (::IJulia.var\"#15#18\")() at .\\task.jl:356"
     ]
    }
   ],
   "source": [
    "learn = trainresults(dtrn,dtst,model)"
   ]
  },
  {
   "cell_type": "code",
   "execution_count": null,
   "metadata": {},
   "outputs": [],
   "source": []
  }
 ],
 "metadata": {
  "@webio": {
   "lastCommId": null,
   "lastKernelId": null
  },
  "kernelspec": {
   "display_name": "Julia 1.5.2",
   "language": "julia",
   "name": "julia-1.5"
  },
  "language_info": {
   "file_extension": ".jl",
   "mimetype": "application/julia",
   "name": "julia",
   "version": "1.5.2"
  }
 },
 "nbformat": 4,
 "nbformat_minor": 4
}
