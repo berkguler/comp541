{
 "cells": [
  {
   "cell_type": "markdown",
   "metadata": {},
   "source": [
    "# LSTM"
   ]
  },
  {
   "cell_type": "code",
   "execution_count": 54,
   "metadata": {},
   "outputs": [
    {
     "data": {
      "text/plain": [
       "7-element Array{String,1}:\n",
       " \"doganay_experiment\"\n",
       " \"idil_experiment\"\n",
       " \"istenc_experiment\"\n",
       " \"omer_experiment\"\n",
       " \"ozan_experiment\"\n",
       " \"yahya_experiment\"\n",
       " \"zaid_experiment\""
      ]
     },
     "execution_count": 54,
     "metadata": {},
     "output_type": "execute_result"
    }
   ],
   "source": [
    "import Pkg; #Pkg.add(\"IterTools\"); Pkg.add(\"Knet\"); Pkg.add(\"Plots\"); Pkg.add(\"CUDA\"); Pkg.add(\"PlotlyJS\")\n",
    "using Knet\n",
    "using Printf\n",
    "using Statistics: mean\n",
    "using Base.Iterators: flatten\n",
    "using IterTools: ncycle, takenth\n",
    "import .Iterators: cycle, Cycle, take\n",
    "using Plots; plotlyjs()\n",
    "using DelimitedFiles, Statistics, Random\n",
    "import CUDA\n",
    "import LinearAlgebra\n",
    "import Plots: heatmap\n",
    "array_type=(CUDA.functional() ? KnetArray{Float32} : Array{Float32})\n",
    "dataset_directory_path = \"../DATA\"\n",
    "dataset_directory = filter(x -> isdir(joinpath(dataset_directory_path, x)), readdir(dataset_directory_path))"
   ]
  },
  {
   "cell_type": "code",
   "execution_count": 55,
   "metadata": {},
   "outputs": [],
   "source": [
    "send_message(message) = run(`curl https://notify.run/zrqfxE0M1ypL5Dv4 -d $message`);"
   ]
  },
  {
   "cell_type": "code",
   "execution_count": 56,
   "metadata": {},
   "outputs": [
    {
     "data": {
      "text/plain": [
       "split_and_convert (generic function with 1 method)"
      ]
     },
     "execution_count": 56,
     "metadata": {},
     "output_type": "execute_result"
    }
   ],
   "source": [
    "function split_and_convert(string_array,splitter)\n",
    "    Rlength = length(string_array)\n",
    "    Clength = length(split(string_array[1],splitter))\n",
    "    Mdata = zeros(Float64,Rlength,Clength)\n",
    "    for i in 1:Rlength\n",
    "        row =  map(x->tryparse(Float64,x),split(string_array[i],splitter))\n",
    "        Mdata[i,:] = row\n",
    "    end\n",
    "    return Mdata\n",
    "end"
   ]
  },
  {
   "cell_type": "code",
   "execution_count": 57,
   "metadata": {},
   "outputs": [],
   "source": [
    "time_history = 50;"
   ]
  },
  {
   "cell_type": "code",
   "execution_count": 58,
   "metadata": {},
   "outputs": [
    {
     "data": {
      "text/plain": [
       "data_selection (generic function with 1 method)"
      ]
     },
     "execution_count": 58,
     "metadata": {},
     "output_type": "execute_result"
    }
   ],
   "source": [
    "function data_selection(participant_directory_path)\n",
    "    data_matrix = Array{Float32}(undef,0,9);\n",
    "    participant_directory = readdir(participant_directory_path)\n",
    "    for raw_txt_files in participant_directory\n",
    "            txt_file_directory_path = joinpath(participant_directory_path, raw_txt_files)\n",
    "            txt_file_directory = readdir(txt_file_directory_path)\n",
    "            \n",
    "            raw_data_file = open(joinpath(txt_file_directory_path,txt_file_directory[4]))\n",
    "            raw_data = split_and_convert(readlines(raw_data_file),\",\")\n",
    "            close(raw_data_file)\n",
    "            \n",
    "            #To avoiding the colliding between subtask 3 and subtask 1\n",
    "            _, remain = divrem(size(raw_data,1),time_history)\n",
    "            \n",
    "            #  Velocity F_fint  F_h  subtask \n",
    "            #  1        2       3      4     \n",
    "            data_matrix = [data_matrix; raw_data[1:end-remain,:]]\n",
    "        end\n",
    "        \n",
    "    return data_matrix\n",
    "end"
   ]
  },
  {
   "cell_type": "code",
   "execution_count": 59,
   "metadata": {},
   "outputs": [],
   "source": [
    "test_data = Array{Float32}(undef,0,9);\n",
    "train_data = Array{Float32}(undef,0,9);\n",
    "\n",
    "for participant_index in 1:length(dataset_directory)\n",
    "    #Participants: 1.doganay 2.idil 3.istenc 4.omer 5.ozan 6.yahya 7.zaid\n",
    "    participant_directory_path = joinpath(dataset_directory_path,dataset_directory[participant_index])\n",
    "    participant_directory = readdir(participant_directory_path)\n",
    "    \n",
    "    if participant_index != 5\n",
    "        data = data_selection(participant_directory_path)\n",
    "        train_data = [train_data;data]\n",
    "    else\n",
    "        data = data_selection(participant_directory_path)\n",
    "        test_data = [test_data;data]\n",
    "    end\n",
    "end"
   ]
  },
  {
   "cell_type": "markdown",
   "metadata": {},
   "source": [
    "Sorting by Length (Descending)"
   ]
  },
  {
   "cell_type": "code",
   "execution_count": 41,
   "metadata": {},
   "outputs": [],
   "source": [
    "#max_, _ = findmax(list_series)\n",
    "#min_ , _ = findmin(list_series)\n",
    "#mean_ = mean(list_series)\n",
    "#print(\"Max: \",max_,\" Min: \", min_ ,\" Mean: \", mean_)\n",
    "# Adding Related Time Series Length to the DATA\n",
    "#assign_durations(data_array,duration_list) = for i in 1:size(data_array)[1]; data_array[i] = [data_array[i],duration_list[i]];end\n",
    "##For the train_data\n",
    "#assign_durations(train_data,list_series[1:length(train_data)])\n",
    "##For the test_data\n",
    "#assign_durations(test_data,list_series[length(train_data)+1:end])\n",
    "# Sorting Data\n",
    "#sort!(train_data, by = x -> x[:][2],rev=true); \n",
    "#sort!(test_data, by = x -> x[:][2],rev=true); "
   ]
  },
  {
   "cell_type": "code",
   "execution_count": 60,
   "metadata": {},
   "outputs": [
    {
     "data": {
      "text/plain": [
       "pHRIHelper"
      ]
     },
     "execution_count": 60,
     "metadata": {},
     "output_type": "execute_result"
    }
   ],
   "source": [
    "mutable struct pHRIHelper\n",
    "   measurements\n",
    "   subtasks\n",
    "   batchsize\n",
    "   time_history\n",
    "   ninstances\n",
    "   shuffled\n",
    "end\n",
    "\n",
    "function data_splitter(raw_data)\n",
    "    input = [raw_data[:,2] raw_data[:,3] raw_data[:,5]];\n",
    "    output = raw_data[:,end];\n",
    "    return input,output\n",
    "end\n",
    "\n",
    "\n",
    "function pHRIHelper(raw_data; batchsize = 128, time_history = 50, shuffled = true)\n",
    "   measurements, subtasks = data_splitter(raw_data)\n",
    "   measurement_pocket = []\n",
    "   subtask_pocket = []\n",
    "   needed_volume = time_history+batchsize-1;\n",
    "   counter = 1;\n",
    "   measurement_instance = [];\n",
    "   subtask_instance = [];\n",
    "   length_instance = 0;\n",
    "   for i in 1:size(measurements,1)\n",
    "        if counter <= needed_volume\n",
    "            push!(measurement_instance,measurements[i,:])\n",
    "            push!(subtask_instance,subtasks[i])\n",
    "        else\n",
    "           counter = 0;\n",
    "           push!(measurement_pocket,measurement_instance)\n",
    "           push!(subtask_pocket,subtask_instance)\n",
    "           measurement_instance = [];\n",
    "           subtask_instance = []; \n",
    "           length_instance +=1;\n",
    "        end\n",
    "        counter +=1;\n",
    "   end\n",
    "    if length(measurement_instance) > 1\n",
    "       push!(measurement_pocket,measurement_instance)\n",
    "       push!(subtask_pocket,subtask_instance) \n",
    "    end\n",
    "   #ninstances, _ = divrem(length(subtasks),needed_volume)\n",
    "   #ninstances = convert(Int,ninstances)\n",
    "    #if length_instance == ninstances\n",
    "    #    display(\"It Works\")\n",
    "    #else\n",
    "    #    display(length_instance)\n",
    "    #    display(ninstances)\n",
    "    #end\n",
    "\n",
    "   return pHRIHelper(measurement_pocket,subtask_pocket,batchsize,time_history,length_instance,shuffled)\n",
    "end"
   ]
  },
  {
   "cell_type": "code",
   "execution_count": 61,
   "metadata": {},
   "outputs": [],
   "source": [
    "#State data stands for ninstances, But every iteration it gets 50 timesteps for each batchsize element.\n",
    "#Each element \n",
    "function Base.iterate(d::pHRIHelper, state=ifelse(d.shuffled, randperm(d.ninstances), 1:d.ninstances))\n",
    "    length(state) < 1  && return nothing\n",
    "    output = KnetArray(zeros(Int32,d.batchsize,d.time_history));            # time_steps,1\n",
    "    input  = KnetArray(zeros(Float32,3,d.batchsize,d.time_history));        # X B T -> 3x16x50\n",
    "    needed_volume = d.batchsize+d.time_history-2;\n",
    "    raw_measurement = d.measurements[state[1]]\n",
    "    size(raw_measurement,1) < needed_volume && return nothing\n",
    "    related_measurements = KnetArray(zeros(Float32,size(raw_measurement,1),3))\n",
    "    for i = 1:size(raw_measurement,1)\n",
    "       related_measurements[i,:] = (KnetArray(raw_measurement[i]')) \n",
    "    end\n",
    "\n",
    "    related_subtasks = convert(Array{Int32,1},d.subtasks[state[1]]);\n",
    "    \n",
    "    buffer = zeros(time_history,1);\n",
    "    x_matrix = zeros(3,time_history);\n",
    "    y_matrix = zeros(1,time_history);\n",
    "    counter = 0;\n",
    "    for time_step in 1:d.batchsize\n",
    "        buffer = time_step:time_step+time_history-1;\n",
    "        x_matrix = related_measurements[buffer,:];\n",
    "        y_matrix = related_subtasks[buffer];\n",
    "        input[:,time_step,:] = x_matrix';\n",
    "        output[time_step,:] = y_matrix;\n",
    "    end\n",
    "    new_state = state[2:end]\n",
    "    \n",
    "    return ((input, output),new_state)    \n",
    "end"
   ]
  },
  {
   "cell_type": "code",
   "execution_count": 62,
   "metadata": {},
   "outputs": [],
   "source": [
    "mutable struct Linear\n",
    "    w # weight\n",
    "    b # bias\n",
    "\n",
    "    function Linear(inputsize, outputsize; atype=array_type, scale::Float64=0.01)\n",
    "        new(Param(convert(atype,randn(outputsize,inputsize)*scale)),Param(convert(atype,zeros(outputsize,1))))\n",
    "    end\n",
    "end\n",
    "\n",
    "function (l::Linear)(x)\n",
    "    return l.w*x.+l.b;\n",
    "end\n",
    "\n",
    "mutable struct Hidden\n",
    "    w # weight\n",
    "    b # bias\n",
    "    fun # non-linear activation function like relu or tanh\n",
    "\n",
    "    function Hidden(inputsize, outputsize, fun=relu, atype=array_type, scale=0.1)\n",
    "        w = Param(convert(atype,randn(outputsize,inputsize)*scale));\n",
    "        b = Param(convert(atype,zeros(outputsize,1)));\n",
    "         new(w,b,fun)\n",
    "    end\n",
    "end\n",
    "\n",
    "function (l::Hidden)(x)\n",
    "    return l.fun.(l.w*x.+l.b);\n",
    "end"
   ]
  },
  {
   "cell_type": "code",
   "execution_count": 63,
   "metadata": {},
   "outputs": [],
   "source": [
    "mutable struct pHRITrainer\n",
    "    hidden_input::Hidden\n",
    "    rnn::RNN\n",
    "    hidden::Linear\n",
    "end\n",
    "\n",
    "function pHRITrainer(input_size, hidden_size, output_size, atype=array_type)\n",
    "    hidden_input = Hidden(input_size,hidden_size)\n",
    "    rnn = RNN(hidden_size,hidden_size; numLayers=2,rnnType=:lstm);\n",
    "    hidden = Linear(hidden_size,output_size)\n",
    "    return pHRITrainer(hidden_input,rnn, hidden)\n",
    "end \n",
    "\n",
    "function (m::pHRITrainer)(x)\n",
    "    dim = size(x)\n",
    "    a = m.hidden_input(reshape(x,size(x,1),:))\n",
    "    b = m.rnn(reshape(a,size(a,1),dim[2],dim[3]));\n",
    "    c = m.hidden(reshape(b,size(b,1),:));\n",
    "    output = reshape(c,size(c,1),dim[2],dim[3]);\n",
    "    return output;\n",
    "end\n",
    "\n",
    "function(m::pHRITrainer)(x,y)\n",
    "    nll(model(x),y;average=true)\n",
    "end\n",
    "\n",
    "function (m::pHRITrainer)(data::pHRIHelper)\n",
    "    total_loss = 0\n",
    "    count = 0\n",
    "    for (x,y) in data\n",
    "        (loss,number) = nll(model(x),y;average=false)\n",
    "        total_loss += loss\n",
    "        count += number\n",
    "    end\n",
    "    return total_loss/count\n",
    "end"
   ]
  },
  {
   "cell_type": "code",
   "execution_count": 64,
   "metadata": {},
   "outputs": [
    {
     "data": {
      "text/plain": [
       "confusions (generic function with 1 method)"
      ]
     },
     "execution_count": 64,
     "metadata": {},
     "output_type": "execute_result"
    }
   ],
   "source": [
    "function loss(model::pHRITrainer, data; average=true)\n",
    "    total_loss = 0\n",
    "    count = 0\n",
    "    for (x,y) in data\n",
    "        (loss,number) = nll(model(x),y;average=false)\n",
    "        total_loss += loss\n",
    "        count += number\n",
    "    end\n",
    "    average && return total_loss/count\n",
    "    return total_loss, count\n",
    "end\n",
    "\n",
    "function confusions(model::pHRITrainer, data)\n",
    "    ntokens = 0; ncorrect = 0\n",
    "    total_ygold = Int[] ; total_ypred = Int[];\n",
    "    subtasks = [1,2,3]\n",
    "    for (x, ygold) in data\n",
    "        scores = model(x)\n",
    "        ntokens += length(ygold)\n",
    "        ypred = map( y -> y[1], argmax(scores, dims=1))\n",
    "        ypred = Array{Int64}(reshape(ypred,size(ypred,2),size(ypred,3)))\n",
    "        ygold = Array{Int64}(ygold)\n",
    "        total_ygold = [total_ygold;ygold[data.batchsize,:]]\n",
    "        total_ygold = [total_ygold;ygold[1:data.batchsize-1,data.time_history]]\n",
    "        total_ypred = [total_ypred;ypred[data.batchsize,:]]\n",
    "        total_ypred = [total_ypred;ypred[1:data.batchsize-1,data.time_history]]\n",
    "        ncorrect += sum(ygold .== ypred)\n",
    "    end\n",
    "        if 0 in total_ygold\n",
    "            display(\"oa\")\n",
    "        end\n",
    "\n",
    "        a = confusion_matrix(total_ygold,total_ypred, labels = subtasks)\n",
    "        \n",
    "        display(f1_score(a))\n",
    "        display(a)\n",
    "    return ncorrect / ntokens\n",
    "end\n"
   ]
  },
  {
   "cell_type": "code",
   "execution_count": 65,
   "metadata": {},
   "outputs": [
    {
     "data": {
      "text/plain": [
       "train_custom! (generic function with 1 method)"
      ]
     },
     "execution_count": 65,
     "metadata": {},
     "output_type": "execute_result"
    }
   ],
   "source": [
    "function train_custom!(model, trn, dev,train_raw)\n",
    "    train_loss, test_loss = Any[],Any[]\n",
    "    #train_loss = [train_loss; loss(model, train_raw)];\n",
    "    #test_loss = [test_loss; loss(model,dev)];\n",
    "    #display(size(test_loss))\n",
    "    train_error = Array{Float64,1}()\n",
    "    test_error = Array{Float64,1}()\n",
    "    \n",
    "    bestmodel, bestloss = deepcopy(model), loss(model,dev)#test_loss[1]\n",
    "    progress!(adam(model, trn), steps=2671) do y \n",
    "        test_losses = loss(model,dev)\n",
    "        train_losses = loss(model, train_raw)\n",
    "        train_loss = [train_loss; train_losses]\n",
    "        test_loss = [test_loss; test_losses]\n",
    "        push!(train_error, 1-accuracy(model,data = train_raw))\n",
    "        push!(test_error, 1 -accuracy(model,data=dev))\n",
    "        #display(size(test_loss))\n",
    "        if test_losses < bestloss\n",
    "            bestmodel, bestloss = deepcopy(model), test_losses\n",
    "        end\n",
    "        return (test_losses)\n",
    "    end\n",
    "    return bestmodel,train_loss,test_loss,train_error,test_error\n",
    "end"
   ]
  },
  {
   "cell_type": "code",
   "execution_count": 66,
   "metadata": {},
   "outputs": [
    {
     "data": {
      "text/plain": [
       "\"Model Created\""
      ]
     },
     "metadata": {},
     "output_type": "display_data"
    },
    {
     "data": {
      "text/plain": [
       "\"training Started\""
      ]
     },
     "metadata": {},
     "output_type": "display_data"
    },
    {
     "name": "stderr",
     "output_type": "stream",
     "text": [
      "┣████████████████████┫ [100.00%, 212400/212400, 02:31:33/02:31:33, 23.36i/s] 0.07070208\n"
     ]
    },
    {
     "data": {
      "text/plain": [
       "\"training Done\""
      ]
     },
     "metadata": {},
     "output_type": "display_data"
    },
    {
     "data": {
      "application/vnd.plotly.v1+json": {
       "data": [
        {
         "colorbar": {
          "title": ""
         },
         "legendgroup": "train",
         "line": {
          "color": "rgba(0, 154, 250, 1.000)",
          "dash": "solid",
          "shape": "linear",
          "width": 1
         },
         "mode": "lines",
         "name": "train",
         "showlegend": true,
         "type": "scatter",
         "x": [
          1,
          2,
          3,
          4,
          5,
          6,
          7,
          8,
          9,
          10,
          11,
          12,
          13,
          14,
          15,
          16,
          17,
          18,
          19,
          20,
          21,
          22,
          23,
          24,
          25,
          26,
          27,
          28,
          29,
          30,
          31,
          32,
          33,
          34,
          35,
          36,
          37,
          38,
          39,
          40,
          41,
          42,
          43,
          44,
          45,
          46,
          47,
          48,
          49,
          50,
          51,
          52,
          53,
          54,
          55,
          56,
          57,
          58,
          59,
          60,
          61,
          62,
          63,
          64,
          65,
          66,
          67,
          68,
          69,
          70,
          71,
          72,
          73,
          74,
          75,
          76,
          77,
          78,
          79,
          80,
          81
         ],
         "xaxis": "x",
         "y": [
          1.0302836,
          0.12168629,
          0.09902301,
          0.08430225,
          0.08473074,
          0.076990925,
          0.06782112,
          0.07484092,
          0.061371423,
          0.060188808,
          0.04642601,
          0.047281183,
          0.07652871,
          0.04625935,
          0.04057992,
          0.03930672,
          0.038317002,
          0.03668584,
          0.038553637,
          0.034719553,
          0.041285552,
          0.036573205,
          0.034271713,
          0.033133138,
          0.03262299,
          0.029213201,
          0.030873964,
          0.02954753,
          0.034003,
          0.03263287,
          0.028695766,
          0.028880062,
          0.02710429,
          0.027827717,
          0.027029032,
          0.026259402,
          0.026646575,
          0.025523981,
          0.025481848,
          0.026739908,
          0.027752224,
          0.026552122,
          0.025375493,
          0.02616509,
          0.023678033,
          0.046744067,
          0.024112588,
          0.023009159,
          0.022776792,
          0.023802804,
          0.02160265,
          0.021903852,
          0.02093035,
          0.020681327,
          0.021052327,
          0.021034488,
          0.022695197,
          0.021567488,
          0.023339698,
          0.021975985,
          0.022066372,
          0.020903386,
          0.021177074,
          0.020329963,
          0.020744633,
          0.022756074,
          0.022622647,
          0.023386838,
          0.022785742,
          0.021959988,
          0.020870289,
          0.022157237,
          0.019826604,
          0.019234085,
          0.018522684,
          0.018508613,
          0.022325443,
          0.01766873,
          0.018472128,
          0.018203257,
          0.019530063
         ],
         "yaxis": "y",
         "zmax": null,
         "zmin": null
        },
        {
         "colorbar": {
          "title": ""
         },
         "legendgroup": "test",
         "line": {
          "color": "rgba(227, 111, 71, 1.000)",
          "dash": "dash",
          "shape": "linear",
          "width": 1
         },
         "mode": "lines",
         "name": "test",
         "showlegend": true,
         "type": "scatter",
         "x": [
          1,
          2,
          3,
          4,
          5,
          6,
          7,
          8,
          9,
          10,
          11,
          12,
          13,
          14,
          15,
          16,
          17,
          18,
          19,
          20,
          21,
          22,
          23,
          24,
          25,
          26,
          27,
          28,
          29,
          30,
          31,
          32,
          33,
          34,
          35,
          36,
          37,
          38,
          39,
          40,
          41,
          42,
          43,
          44,
          45,
          46,
          47,
          48,
          49,
          50,
          51,
          52,
          53,
          54,
          55,
          56,
          57,
          58,
          59,
          60,
          61,
          62,
          63,
          64,
          65,
          66,
          67,
          68,
          69,
          70,
          71,
          72,
          73,
          74,
          75,
          76,
          77,
          78,
          79,
          80,
          81
         ],
         "xaxis": "x",
         "y": [
          1.0357404,
          0.12597649,
          0.105842814,
          0.08517884,
          0.07965486,
          0.096380986,
          0.0770477,
          0.07580672,
          0.0759368,
          0.07068435,
          0.067589015,
          0.070646256,
          0.1090285,
          0.059130423,
          0.06264501,
          0.056147426,
          0.05651098,
          0.06496189,
          0.075180896,
          0.06979896,
          0.0727053,
          0.06660314,
          0.07317338,
          0.058111142,
          0.047111068,
          0.05108154,
          0.04833794,
          0.07171633,
          0.05514064,
          0.045374285,
          0.049571253,
          0.047733717,
          0.045192298,
          0.050960507,
          0.047784425,
          0.04378981,
          0.058373395,
          0.062008582,
          0.05431219,
          0.08720026,
          0.07523824,
          0.08204243,
          0.05186477,
          0.060968332,
          0.06603734,
          0.07503264,
          0.06953492,
          0.05659576,
          0.052436844,
          0.07157736,
          0.062983595,
          0.07000967,
          0.04861329,
          0.060043722,
          0.060365997,
          0.061430875,
          0.06086246,
          0.062532544,
          0.07501295,
          0.075407565,
          0.08939904,
          0.07375681,
          0.08226685,
          0.07675551,
          0.07088497,
          0.07198587,
          0.057588503,
          0.07201358,
          0.064817905,
          0.07339756,
          0.07474937,
          0.065758474,
          0.06719714,
          0.05588642,
          0.06848162,
          0.0725094,
          0.06061708,
          0.07628969,
          0.088989176,
          0.07375952,
          0.07070208
         ],
         "yaxis": "y",
         "zmax": null,
         "zmin": null
        }
       ],
       "layout": {
        "annotations": [],
        "height": 400,
        "legend": {
         "bgcolor": "rgba(255, 255, 255, 1.000)",
         "bordercolor": "rgba(0, 0, 0, 1.000)",
         "borderwidth": 1,
         "font": {
          "color": "rgba(0, 0, 0, 1.000)",
          "family": "sans-serif",
          "size": 11
         },
         "title": {
          "font": {
           "color": "rgba(0, 0, 0, 1.000)",
           "family": "sans-serif",
           "size": 15
          },
          "text": ""
         },
         "tracegroupgap": 0,
         "traceorder": "normal",
         "x": 1,
         "xanchor": "auto",
         "y": 1,
         "yanchor": "auto"
        },
        "margin": {
         "b": 20,
         "l": 0,
         "r": 0,
         "t": 20
        },
        "paper_bgcolor": "rgba(255, 255, 255, 1.000)",
        "plot_bgcolor": "rgba(255, 255, 255, 1.000)",
        "showlegend": true,
        "width": 600,
        "xaxis": {
         "anchor": "y",
         "domain": [
          0.09128390201224845,
          0.9934383202099738
         ],
         "gridcolor": "rgba(0, 0, 0, 0.100)",
         "gridwidth": 0.5,
         "linecolor": "rgba(0, 0, 0, 1.000)",
         "mirror": false,
         "range": [
          -1.4,
          83.4
         ],
         "showgrid": true,
         "showline": true,
         "showticklabels": true,
         "tickangle": 0,
         "tickcolor": "rgb(0, 0, 0)",
         "tickfont": {
          "color": "rgba(0, 0, 0, 1.000)",
          "family": "sans-serif",
          "size": 11
         },
         "tickmode": "array",
         "ticks": "inside",
         "ticktext": [
          "0",
          "20",
          "40",
          "60",
          "80"
         ],
         "tickvals": [
          0,
          20,
          40,
          60,
          80
         ],
         "title": "iterations",
         "titlefont": {
          "color": "rgba(0, 0, 0, 1.000)",
          "family": "sans-serif",
          "size": 15
         },
         "type": "-",
         "visible": true,
         "zeroline": false,
         "zerolinecolor": "rgba(0, 0, 0, 1.000)"
        },
        "yaxis": {
         "anchor": "x",
         "domain": [
          0.07581474190726165,
          0.9901574803149606
         ],
         "gridcolor": "rgba(0, 0, 0, 0.100)",
         "gridwidth": 0.5,
         "linecolor": "rgba(0, 0, 0, 1.000)",
         "mirror": false,
         "range": [
          -0.012873419728130102,
          1.066282524894923
         ],
         "showgrid": true,
         "showline": true,
         "showticklabels": true,
         "tickangle": 0,
         "tickcolor": "rgb(0, 0, 0)",
         "tickfont": {
          "color": "rgba(0, 0, 0, 1.000)",
          "family": "sans-serif",
          "size": 11
         },
         "tickmode": "array",
         "ticks": "inside",
         "ticktext": [
          "0.00",
          "0.25",
          "0.50",
          "0.75",
          "1.00"
         ],
         "tickvals": [
          0,
          0.25,
          0.5,
          0.75,
          1
         ],
         "title": "loss",
         "titlefont": {
          "color": "rgba(0, 0, 0, 1.000)",
          "family": "sans-serif",
          "size": 15
         },
         "type": "-",
         "visible": true,
         "zeroline": false,
         "zerolinecolor": "rgba(0, 0, 0, 1.000)"
        }
       }
      },
      "image/png": "[encoded data removed]"
     },
     "metadata": {},
     "output_type": "display_data"
    },
    {
     "data": {
      "application/vnd.plotly.v1+json": {
       "data": [
        {
         "colorbar": {
          "title": ""
         },
         "legendgroup": "train",
         "line": {
          "color": "rgba(0, 154, 250, 1.000)",
          "dash": "solid",
          "shape": "linear",
          "width": 1
         },
         "mode": "lines",
         "name": "train",
         "showlegend": true,
         "type": "scatter",
         "x": [
          1,
          2,
          3,
          4,
          5,
          6,
          7,
          8,
          9,
          10,
          11,
          12,
          13,
          14,
          15,
          16,
          17,
          18,
          19,
          20,
          21,
          22,
          23,
          24,
          25,
          26,
          27,
          28,
          29,
          30,
          31,
          32,
          33,
          34,
          35,
          36,
          37,
          38,
          39,
          40,
          41,
          42,
          43,
          44,
          45,
          46,
          47,
          48,
          49,
          50,
          51,
          52,
          53,
          54,
          55,
          56,
          57,
          58,
          59,
          60,
          61,
          62,
          63,
          64,
          65,
          66,
          67,
          68,
          69,
          70,
          71,
          72,
          73,
          74,
          75,
          76,
          77,
          78,
          79,
          80,
          81
         ],
         "xaxis": "x",
         "y": [
          0.4114779307909604,
          0.029447504708097982,
          0.028957450564971787,
          0.024773893596986785,
          0.02465860404896425,
          0.02414783427495293,
          0.022673846516007568,
          0.02352242231638413,
          0.02089212570621468,
          0.018326330037664817,
          0.016176553672316407,
          0.01452560028248584,
          0.02069703389830513,
          0.014207156308851276,
          0.01267261064030134,
          0.01311011064030132,
          0.012722634180791004,
          0.012520127118644031,
          0.012166313559322073,
          0.011141890301318291,
          0.014454096045197762,
          0.012809969397363452,
          0.011701683145009412,
          0.011320739171374772,
          0.010368232109227882,
          0.009540666195856917,
          0.01069067796610168,
          0.010014830508474626,
          0.013285369585687379,
          0.0110054143126177,
          0.009686734934086672,
          0.010168491054613926,
          0.008992055084745765,
          0.009307733050847422,
          0.008819267890772142,
          0.008388771186440658,
          0.008450623822975567,
          0.008218220338983007,
          0.008388359227871955,
          0.00871433615819206,
          0.009765948681732528,
          0.009456744350282431,
          0.00850306026365344,
          0.008700682674199656,
          0.008020244821092315,
          0.01651900894538605,
          0.007676553672316344,
          0.007480461393597038,
          0.007473575800376664,
          0.0077929613935969755,
          0.007041548964218491,
          0.007331508945386034,
          0.006742937853107311,
          0.0065433733521657045,
          0.006805732109227858,
          0.0067695974576270634,
          0.007047669491525466,
          0.006857109227871971,
          0.007314088983050859,
          0.007032073917137449,
          0.006670315442561248,
          0.006583745291902088,
          0.006725812146892607,
          0.006544785781544271,
          0.006614289077212843,
          0.007077801318267407,
          0.0069809910546139164,
          0.006706744350282512,
          0.006684969397363516,
          0.006602813088512294,
          0.006542019774011254,
          0.007141242937853121,
          0.0060875706214689185,
          0.005882120998116802,
          0.005759945856873783,
          0.005829096045197768,
          0.006799258474576297,
          0.005542078625235369,
          0.005857285781544208,
          0.005705743879472647,
          0.006051730225988705
         ],
         "yaxis": "y",
         "zmax": null,
         "zmin": null
        },
        {
         "colorbar": {
          "title": ""
         },
         "legendgroup": "test",
         "line": {
          "color": "rgba(227, 111, 71, 1.000)",
          "dash": "dash",
          "shape": "linear",
          "width": 1
         },
         "mode": "lines",
         "name": "test",
         "showlegend": true,
         "type": "scatter",
         "x": [
          1,
          2,
          3,
          4,
          5,
          6,
          7,
          8,
          9,
          10,
          11,
          12,
          13,
          14,
          15,
          16,
          17,
          18,
          19,
          20,
          21,
          22,
          23,
          24,
          25,
          26,
          27,
          28,
          29,
          30,
          31,
          32,
          33,
          34,
          35,
          36,
          37,
          38,
          39,
          40,
          41,
          42,
          43,
          44,
          45,
          46,
          47,
          48,
          49,
          50,
          51,
          52,
          53,
          54,
          55,
          56,
          57,
          58,
          59,
          60,
          61,
          62,
          63,
          64,
          65,
          66,
          67,
          68,
          69,
          70,
          71,
          72,
          73,
          74,
          75,
          76,
          77,
          78,
          79,
          80,
          81
         ],
         "xaxis": "x",
         "y": [
          0.4394453449170125,
          0.030841545643153556,
          0.03198845954356844,
          0.022861449688796665,
          0.021819242738589262,
          0.02500778008298754,
          0.021309971473029043,
          0.01812824170124483,
          0.02003047199170127,
          0.018537020228215795,
          0.019667077282157663,
          0.01638809647302908,
          0.022767764522821587,
          0.016335580912863024,
          0.015211358921161877,
          0.014279693983402453,
          0.01783681275933613,
          0.017121369294605837,
          0.019383752593361003,
          0.0178750648340249,
          0.020573781120331924,
          0.01833344139004145,
          0.018437175829875474,
          0.015569242738589173,
          0.012073392116182524,
          0.011357948651452232,
          0.012123962655601672,
          0.014232365145228187,
          0.013479642116182577,
          0.012111968360995817,
          0.01198586618257258,
          0.011229253112033155,
          0.00892926607883815,
          0.010646071058091233,
          0.010354317946058123,
          0.009250842842323692,
          0.012285723547717842,
          0.012144061203319456,
          0.012079875518672178,
          0.016981003630705427,
          0.01629149377593364,
          0.01631807572614108,
          0.013702022821576731,
          0.01565774118257257,
          0.015716091804979238,
          0.01757553163900416,
          0.015143607365145195,
          0.013557118775933574,
          0.013313667012448183,
          0.017124286825726087,
          0.013152554460580945,
          0.014097510373443978,
          0.010200337136929472,
          0.012575207468879634,
          0.012408584024896308,
          0.012677321058091273,
          0.01289775674273863,
          0.012998249481327773,
          0.014160723547717802,
          0.01467809906639006,
          0.014312435165975135,
          0.013749675829875518,
          0.015222380705394167,
          0.014065093360995817,
          0.013797977178423237,
          0.015216869813277967,
          0.013926996887966836,
          0.014146460062240629,
          0.012589795124481329,
          0.01394709543568462,
          0.014188602178423215,
          0.013607689315352722,
          0.013002463692946109,
          0.01173236514522824,
          0.013345759854771821,
          0.013943853734439848,
          0.012117155082987607,
          0.015011021784232415,
          0.01614561721991703,
          0.014582144709543554,
          0.0137713952282158
         ],
         "yaxis": "y",
         "zmax": null,
         "zmin": null
        }
       ],
       "layout": {
        "annotations": [],
        "height": 400,
        "legend": {
         "bgcolor": "rgba(255, 255, 255, 1.000)",
         "bordercolor": "rgba(0, 0, 0, 1.000)",
         "borderwidth": 1,
         "font": {
          "color": "rgba(0, 0, 0, 1.000)",
          "family": "sans-serif",
          "size": 11
         },
         "title": {
          "font": {
           "color": "rgba(0, 0, 0, 1.000)",
           "family": "sans-serif",
           "size": 15
          },
          "text": ""
         },
         "tracegroupgap": 0,
         "traceorder": "normal",
         "x": 1,
         "xanchor": "auto",
         "y": 1,
         "yanchor": "auto"
        },
        "margin": {
         "b": 20,
         "l": 0,
         "r": 0,
         "t": 20
        },
        "paper_bgcolor": "rgba(255, 255, 255, 1.000)",
        "plot_bgcolor": "rgba(255, 255, 255, 1.000)",
        "showlegend": true,
        "width": 600,
        "xaxis": {
         "anchor": "y",
         "domain": [
          0.07646908719743364,
          0.9934383202099737
         ],
         "gridcolor": "rgba(0, 0, 0, 0.100)",
         "gridwidth": 0.5,
         "linecolor": "rgba(0, 0, 0, 1.000)",
         "mirror": false,
         "range": [
          -1.4,
          83.4
         ],
         "showgrid": true,
         "showline": true,
         "showticklabels": true,
         "tickangle": 0,
         "tickcolor": "rgb(0, 0, 0)",
         "tickfont": {
          "color": "rgba(0, 0, 0, 1.000)",
          "family": "sans-serif",
          "size": 11
         },
         "tickmode": "array",
         "ticks": "inside",
         "ticktext": [
          "0",
          "20",
          "40",
          "60",
          "80"
         ],
         "tickvals": [
          0,
          20,
          40,
          60,
          80
         ],
         "title": "iterations",
         "titlefont": {
          "color": "rgba(0, 0, 0, 1.000)",
          "family": "sans-serif",
          "size": 15
         },
         "type": "-",
         "visible": true,
         "zeroline": false,
         "zerolinecolor": "rgba(0, 0, 0, 1.000)"
        },
        "yaxis": {
         "anchor": "x",
         "domain": [
          0.07581474190726165,
          0.9901574803149606
         ],
         "gridcolor": "rgba(0, 0, 0, 0.100)",
         "gridwidth": 0.5,
         "linecolor": "rgba(0, 0, 0, 1.000)",
         "mirror": false,
         "range": [
          -0.007475019363517944,
          0.4524624429057658
         ],
         "showgrid": true,
         "showline": true,
         "showticklabels": true,
         "tickangle": 0,
         "tickcolor": "rgb(0, 0, 0)",
         "tickfont": {
          "color": "rgba(0, 0, 0, 1.000)",
          "family": "sans-serif",
          "size": 11
         },
         "tickmode": "array",
         "ticks": "inside",
         "ticktext": [
          "0.0",
          "0.1",
          "0.2",
          "0.3",
          "0.4"
         ],
         "tickvals": [
          0,
          0.1,
          0.2,
          0.30000000000000004,
          0.4
         ],
         "title": "error",
         "titlefont": {
          "color": "rgba(0, 0, 0, 1.000)",
          "family": "sans-serif",
          "size": 15
         },
         "type": "-",
         "visible": true,
         "zeroline": false,
         "zerolinecolor": "rgba(0, 0, 0, 1.000)"
        }
       }
      },
      "image/png": "[encoded data removed]"
     },
     "metadata": {},
     "output_type": "display_data"
    },
    {
     "data": {
      "text/plain": [
       "\"Last Results\""
      ]
     },
     "metadata": {},
     "output_type": "display_data"
    },
    {
     "name": "stdout",
     "output_type": "stream",
     "text": [
      "Development loss = 0.04378982\n",
      "Development accuracy = 0.9907491571576763\n",
      "Training loss = 0.026259426\n",
      "Training accuracy = 0.9916112288135593\n"
     ]
    }
   ],
   "source": [
    "Random.seed!(1)\n",
    "dtrn = pHRIHelper(train_data;shuffled=true);\n",
    "dtst = pHRIHelper(test_data;shuffled=true);\n",
    "model = pHRITrainer(3, 128, 3)\n",
    "display(\"Model Created\")\n",
    "ctrn = []; epochs=80;\n",
    "for b in dtrn\n",
    "   push!(ctrn,b) \n",
    "end\n",
    "trnx10 = collect(flatten(ctrn for i in 1:epochs));\n",
    "display(\"training Started\")\n",
    "model_trained,trnloss,tstloss,trnerror,tsterror = train_custom!(model, trnx10, dtst,dtrn)\n",
    "display(\"training Done\")\n",
    "default(fmt=:png,ls=:auto)\n",
    "loss_graph = plot(1:81, trnloss, label=\"train\", xlabel=\"iterations\", ylabel=\"loss\")\n",
    "plot!(1:81, tstloss, label=\"test\")\n",
    "error_graph = plot(1:81, trnerror, label=\"train\", xlabel=\"iterations\", ylabel=\"error\")\n",
    "plot!(1:81, tsterror, label=\"test\")\n",
    "display(loss_graph)\n",
    "display(error_graph)\n",
    "\n",
    "display(\"Last Results\")\n",
    "dloss = loss(model_trained, dtst)\n",
    "tloss = loss(model_trained, dtrn)\n",
    "dacc = accuracy(model_trained, dtst)\n",
    "tacc = accuracy(model_trained, dtrn)\n",
    "\n",
    "println(\"Development loss = \", dloss)\n",
    "println(\"Development accuracy = \", dacc)\n",
    "println(\"Training loss = \", tloss)\n",
    "println(\"Training accuracy = \", tacc)"
   ]
  },
  {
   "cell_type": "code",
   "execution_count": 68,
   "metadata": {},
   "outputs": [
    {
     "data": {
      "text/plain": [
       "3-element Array{Float64,1}:\n",
       " 0.9894491641545629\n",
       " 0.9883134809058841\n",
       " 0.9765455484759773"
      ]
     },
     "metadata": {},
     "output_type": "display_data"
    },
    {
     "data": {
      "text/plain": [
       "            Expected\n",
       "\n",
       "      1      2      3\n",
       "_____________________\n",
       "  21663    369      0   │1 \n",
       "     93  48331     17   │2 \n",
       "      0    664  14177   │3\tPredicted\n"
      ]
     },
     "metadata": {},
     "output_type": "display_data"
    },
    {
     "data": {
      "text/plain": [
       "0.9862286047717842"
      ]
     },
     "execution_count": 68,
     "metadata": {},
     "output_type": "execute_result"
    }
   ],
   "source": [
    "confusions(model, dtst)"
   ]
  },
  {
   "cell_type": "code",
   "execution_count": 69,
   "metadata": {},
   "outputs": [
    {
     "data": {
      "text/plain": [
       "5-element Array{Param,1}:\n",
       " P(KnetArray{Float32,2}(128,3))\n",
       " P(KnetArray{Float32,2}(128,1))\n",
       " P(KnetArray{Float32,3}(1,1,264192))\n",
       " P(KnetArray{Float32,2}(3,128))\n",
       " P(KnetArray{Float32,2}(3,1))"
      ]
     },
     "execution_count": 69,
     "metadata": {},
     "output_type": "execute_result"
    }
   ],
   "source": [
    "params(model)"
   ]
  },
  {
   "cell_type": "code",
   "execution_count": 68,
   "metadata": {},
   "outputs": [
    {
     "name": "stderr",
     "output_type": "stream",
     "text": [
      "┣████████████████████┫ [100.00%, 107360/107360, 25:21/25:21, 70.57i/s] 5.966584e-12\n"
     ]
    },
    {
     "data": {
      "application/vnd.plotly.v1+json": {
       "data": [
        {
         "colorbar": {
          "title": ""
         },
         "legendgroup": "train",
         "line": {
          "color": "rgba(0, 154, 250, 1.000)",
          "dash": "solid",
          "shape": "linear",
          "width": 1
         },
         "mode": "lines",
         "name": "train",
         "showlegend": true,
         "type": "scatter",
         "x": [
          1,
          2,
          3,
          4,
          5,
          6,
          7,
          8,
          9,
          10,
          11,
          12,
          13,
          14,
          15,
          16,
          17,
          18,
          19,
          20,
          21,
          22,
          23,
          24,
          25,
          26,
          27,
          28,
          29,
          30,
          31,
          32,
          33,
          34,
          35,
          36,
          37,
          38,
          39,
          40,
          41
         ],
         "xaxis": "x",
         "y": [
          1.0722994,
          0.0044834684,
          0.00059576164,
          0.00044786805,
          0.00040011143,
          0.0002494122,
          0.00015098724,
          0.000113223134,
          9.9550285e-05,
          8.317604e-05,
          7.895981e-05,
          6.6889595e-05,
          5.0598384e-05,
          4.9429007e-05,
          4.618947e-05,
          2.5486024e-05,
          3.5096644e-05,
          2.2628237e-05,
          3.2097785e-05,
          2.212542e-05,
          2.0985206e-05,
          2.0083724e-05,
          2.5822525e-05,
          1.8722732e-05,
          1.8589204e-05,
          2.186351e-05,
          2.1752718e-05,
          1.8120023e-05,
          3.3099586e-05,
          1.2627774e-05,
          1.374923e-05,
          1.7399707e-05,
          2.2243194e-05,
          1.7648224e-05,
          2.1565857e-05,
          2.018814e-05,
          2.138764e-05,
          2.0784968e-05,
          1.4328138e-05,
          1.7729799e-05,
          1.49793705e-05
         ],
         "yaxis": "y",
         "zmax": null,
         "zmin": null
        },
        {
         "colorbar": {
          "title": ""
         },
         "legendgroup": "test",
         "line": {
          "color": "rgba(227, 111, 71, 1.000)",
          "dash": "dash",
          "shape": "linear",
          "width": 1
         },
         "mode": "lines",
         "name": "test",
         "showlegend": true,
         "type": "scatter",
         "x": [
          1,
          2,
          3,
          4,
          5,
          6,
          7,
          8,
          9,
          10,
          11,
          12,
          13,
          14,
          15,
          16,
          17,
          18,
          19,
          20,
          21,
          22,
          23,
          24,
          25,
          26,
          27,
          28,
          29,
          30,
          31,
          32,
          33,
          34,
          35,
          36,
          37,
          38,
          39,
          40,
          41
         ],
         "xaxis": "x",
         "y": [
          1.1104993,
          0.0010942839,
          2.0806445e-05,
          5.231947e-06,
          2.3043312e-05,
          7.997947e-06,
          3.180158e-06,
          6.09288e-07,
          1.9785085e-07,
          7.747457e-08,
          1.5151299e-08,
          3.1638194e-09,
          0,
          7.732693e-09,
          1.3310072e-11,
          0,
          4.075636e-10,
          0,
          3.643441e-09,
          0,
          0,
          0,
          0,
          0,
          0,
          0,
          0,
          0,
          0,
          0,
          0,
          0,
          0,
          2.29484e-12,
          0,
          0,
          1.2004308e-08,
          0,
          0,
          0,
          5.966584e-12
         ],
         "yaxis": "y",
         "zmax": null,
         "zmin": null
        }
       ],
       "layout": {
        "annotations": [],
        "height": 400,
        "legend": {
         "bgcolor": "rgba(255, 255, 255, 1.000)",
         "bordercolor": "rgba(0, 0, 0, 1.000)",
         "borderwidth": 1,
         "font": {
          "color": "rgba(0, 0, 0, 1.000)",
          "family": "sans-serif",
          "size": 11
         },
         "title": {
          "font": {
           "color": "rgba(0, 0, 0, 1.000)",
           "family": "sans-serif",
           "size": 15
          },
          "text": ""
         },
         "tracegroupgap": 0,
         "traceorder": "normal",
         "x": 1,
         "xanchor": "auto",
         "y": 1,
         "yanchor": "auto"
        },
        "margin": {
         "b": 20,
         "l": 0,
         "r": 0,
         "t": 20
        },
        "paper_bgcolor": "rgba(255, 255, 255, 1.000)",
        "plot_bgcolor": "rgba(255, 255, 255, 1.000)",
        "showlegend": true,
        "width": 600,
        "xaxis": {
         "anchor": "y",
         "domain": [
          0.09128390201224845,
          0.9934383202099738
         ],
         "gridcolor": "rgba(0, 0, 0, 0.100)",
         "gridwidth": 0.5,
         "linecolor": "rgba(0, 0, 0, 1.000)",
         "mirror": false,
         "range": [
          -0.19999999999999996,
          42.2
         ],
         "showgrid": true,
         "showline": true,
         "showticklabels": true,
         "tickangle": 0,
         "tickcolor": "rgb(0, 0, 0)",
         "tickfont": {
          "color": "rgba(0, 0, 0, 1.000)",
          "family": "sans-serif",
          "size": 11
         },
         "tickmode": "array",
         "ticks": "inside",
         "ticktext": [
          "0",
          "10",
          "20",
          "30",
          "40"
         ],
         "tickvals": [
          0,
          10,
          20,
          30,
          40
         ],
         "title": "iterations",
         "titlefont": {
          "color": "rgba(0, 0, 0, 1.000)",
          "family": "sans-serif",
          "size": 15
         },
         "type": "-",
         "visible": true,
         "zeroline": false,
         "zerolinecolor": "rgba(0, 0, 0, 1.000)"
        },
        "yaxis": {
         "anchor": "x",
         "domain": [
          0.07581474190726165,
          0.9901574803149606
         ],
         "gridcolor": "rgba(0, 0, 0, 0.100)",
         "gridwidth": 0.5,
         "linecolor": "rgba(0, 0, 0, 1.000)",
         "mirror": false,
         "range": [
          -0.0333149778842926,
          1.143814240694046
         ],
         "showgrid": true,
         "showline": true,
         "showticklabels": true,
         "tickangle": 0,
         "tickcolor": "rgb(0, 0, 0)",
         "tickfont": {
          "color": "rgba(0, 0, 0, 1.000)",
          "family": "sans-serif",
          "size": 11
         },
         "tickmode": "array",
         "ticks": "inside",
         "ticktext": [
          "0.00",
          "0.25",
          "0.50",
          "0.75",
          "1.00"
         ],
         "tickvals": [
          0,
          0.25,
          0.5,
          0.75,
          1
         ],
         "title": "loss",
         "titlefont": {
          "color": "rgba(0, 0, 0, 1.000)",
          "family": "sans-serif",
          "size": 15
         },
         "type": "-",
         "visible": true,
         "zeroline": false,
         "zerolinecolor": "rgba(0, 0, 0, 1.000)"
        }
       }
      },
      "image/png": "[encoded data removed]"
     },
     "execution_count": 68,
     "metadata": {},
     "output_type": "execute_result"
    }
   ],
   "source": [
    "model,trnloss,tstloss = train!(model, trnx10, dtst,dtrn)\n",
    "\n",
    "default(fmt=:png,ls=:auto)\n",
    "plot(1:length(trnloss), trnloss, label=\"train\", xlabel=\"iterations\", ylabel=\"loss\")\n",
    "plot!(1:length(tstloss), tstloss, label=\"test\")\n",
    "\n",
    "#display(model(dtrn))\n",
    "#display(nll(model;data=dtrn))"
   ]
  },
  {
   "cell_type": "code",
   "execution_count": 71,
   "metadata": {},
   "outputs": [
    {
     "name": "stdout",
     "output_type": "stream",
     "text": [
      "Development loss = 0.0\n",
      "Development accuracy = 1.0\n",
      "Training loss = 5.05984e-5\n",
      "Training accuracy = 0.9999850968703428\n"
     ]
    }
   ],
   "source": [
    "dloss = loss(model, dtst)\n",
    "tloss = loss(model, dtrn)\n",
    "dacc = accuracy(model, dtst)\n",
    "tacc = accuracy(model, dtrn)\n",
    "\n",
    "println(\"Development loss = \", dloss)\n",
    "println(\"Development accuracy = \", dacc)\n",
    "println(\"Training loss = \", tloss)\n",
    "println(\"Training accuracy = \", tacc)"
   ]
  },
  {
   "cell_type": "code",
   "execution_count": 28,
   "metadata": {},
   "outputs": [
    {
     "data": {
      "text/plain": [
       "\"Model Created\""
      ]
     },
     "metadata": {},
     "output_type": "display_data"
    },
    {
     "data": {
      "text/plain": [
       "\"training Started\""
      ]
     },
     "metadata": {},
     "output_type": "display_data"
    },
    {
     "name": "stderr",
     "output_type": "stream",
     "text": [
      "┣████████████████████┫ [100.00%, 106200/106200, 01:24:32/01:24:32, 20.94i/s] 0.07309179\n"
     ]
    },
    {
     "data": {
      "text/plain": [
       "\"training Done\""
      ]
     },
     "metadata": {},
     "output_type": "display_data"
    },
    {
     "data": {
      "application/vnd.plotly.v1+json": {
       "data": [
        {
         "colorbar": {
          "title": ""
         },
         "legendgroup": "train",
         "line": {
          "color": "rgba(0, 154, 250, 1.000)",
          "dash": "solid",
          "shape": "linear",
          "width": 1
         },
         "mode": "lines",
         "name": "train",
         "showlegend": true,
         "type": "scatter",
         "x": [
          1,
          2,
          3,
          4,
          5,
          6,
          7,
          8,
          9,
          10,
          11,
          12,
          13,
          14,
          15,
          16,
          17,
          18,
          19,
          20,
          21,
          22,
          23,
          24,
          25,
          26,
          27,
          28,
          29,
          30,
          31,
          32,
          33,
          34,
          35,
          36,
          37,
          38,
          39,
          40,
          41
         ],
         "xaxis": "x",
         "y": [
          1.0801095,
          0.14767976,
          0.40702438,
          0.10375365,
          0.080824904,
          0.06499043,
          0.05224167,
          0.049470704,
          0.04205652,
          0.041188534,
          0.04285026,
          0.041420158,
          0.04256745,
          0.034780562,
          0.036839988,
          0.032849196,
          0.035110787,
          0.033449538,
          0.031091021,
          0.03218426,
          0.031040119,
          0.03287614,
          0.03039626,
          0.030628651,
          0.027164472,
          0.030142367,
          0.030987773,
          0.026667416,
          0.028268442,
          0.028607156,
          0.027800292,
          0.026871752,
          0.029863713,
          0.02736868,
          0.028639175,
          0.028909385,
          0.024671579,
          0.023808345,
          0.032357607,
          0.026065968,
          0.027983475
         ],
         "yaxis": "y",
         "zmax": null,
         "zmin": null
        },
        {
         "colorbar": {
          "title": ""
         },
         "legendgroup": "test",
         "line": {
          "color": "rgba(227, 111, 71, 1.000)",
          "dash": "dash",
          "shape": "linear",
          "width": 1
         },
         "mode": "lines",
         "name": "test",
         "showlegend": true,
         "type": "scatter",
         "x": [
          1,
          2,
          3,
          4,
          5,
          6,
          7,
          8,
          9,
          10,
          11,
          12,
          13,
          14,
          15,
          16,
          17,
          18,
          19,
          20,
          21,
          22,
          23,
          24,
          25,
          26,
          27,
          28,
          29,
          30,
          31,
          32,
          33,
          34,
          35,
          36,
          37,
          38,
          39,
          40,
          41
         ],
         "xaxis": "x",
         "y": [
          1.0836794,
          0.09866515,
          0.3334069,
          0.0702047,
          0.060153496,
          0.059233785,
          0.07402708,
          0.053961553,
          0.046890937,
          0.04810297,
          0.05469358,
          0.041131698,
          0.053737625,
          0.06426982,
          0.04952938,
          0.061181746,
          0.06342452,
          0.064260714,
          0.041648667,
          0.045182887,
          0.03816271,
          0.05624906,
          0.03181975,
          0.036608323,
          0.04484207,
          0.038378913,
          0.03936958,
          0.05289926,
          0.037222542,
          0.054535184,
          0.05421557,
          0.04873839,
          0.062096126,
          0.07145319,
          0.032043945,
          0.043175932,
          0.05881423,
          0.04296909,
          0.029370233,
          0.07036171,
          0.07309179
         ],
         "yaxis": "y",
         "zmax": null,
         "zmin": null
        }
       ],
       "layout": {
        "annotations": [],
        "height": 400,
        "legend": {
         "bgcolor": "rgba(255, 255, 255, 1.000)",
         "bordercolor": "rgba(0, 0, 0, 1.000)",
         "borderwidth": 1,
         "font": {
          "color": "rgba(0, 0, 0, 1.000)",
          "family": "sans-serif",
          "size": 11
         },
         "title": {
          "font": {
           "color": "rgba(0, 0, 0, 1.000)",
           "family": "sans-serif",
           "size": 15
          },
          "text": ""
         },
         "tracegroupgap": 0,
         "traceorder": "normal",
         "x": 1,
         "xanchor": "auto",
         "y": 1,
         "yanchor": "auto"
        },
        "margin": {
         "b": 20,
         "l": 0,
         "r": 0,
         "t": 20
        },
        "paper_bgcolor": "rgba(255, 255, 255, 1.000)",
        "plot_bgcolor": "rgba(255, 255, 255, 1.000)",
        "showlegend": true,
        "width": 600,
        "xaxis": {
         "anchor": "y",
         "domain": [
          0.09128390201224845,
          0.9934383202099738
         ],
         "gridcolor": "rgba(0, 0, 0, 0.100)",
         "gridwidth": 0.5,
         "linecolor": "rgba(0, 0, 0, 1.000)",
         "mirror": false,
         "range": [
          -0.19999999999999996,
          42.2
         ],
         "showgrid": true,
         "showline": true,
         "showticklabels": true,
         "tickangle": 0,
         "tickcolor": "rgb(0, 0, 0)",
         "tickfont": {
          "color": "rgba(0, 0, 0, 1.000)",
          "family": "sans-serif",
          "size": 11
         },
         "tickmode": "array",
         "ticks": "inside",
         "ticktext": [
          "0",
          "10",
          "20",
          "30",
          "40"
         ],
         "tickvals": [
          0,
          10,
          20,
          30,
          40
         ],
         "title": "iterations",
         "titlefont": {
          "color": "rgba(0, 0, 0, 1.000)",
          "family": "sans-serif",
          "size": 15
         },
         "type": "-",
         "visible": true,
         "zeroline": false,
         "zerolinecolor": "rgba(0, 0, 0, 1.000)"
        },
        "yaxis": {
         "anchor": "x",
         "domain": [
          0.07581474190726165,
          0.9901574803149606
         ],
         "gridcolor": "rgba(0, 0, 0, 0.100)",
         "gridwidth": 0.5,
         "linecolor": "rgba(0, 0, 0, 1.000)",
         "mirror": false,
         "range": [
          -0.00798778757452965,
          1.11547557041049
         ],
         "showgrid": true,
         "showline": true,
         "showticklabels": true,
         "tickangle": 0,
         "tickcolor": "rgb(0, 0, 0)",
         "tickfont": {
          "color": "rgba(0, 0, 0, 1.000)",
          "family": "sans-serif",
          "size": 11
         },
         "tickmode": "array",
         "ticks": "inside",
         "ticktext": [
          "0.00",
          "0.25",
          "0.50",
          "0.75",
          "1.00"
         ],
         "tickvals": [
          0,
          0.25,
          0.5,
          0.75,
          1
         ],
         "title": "loss",
         "titlefont": {
          "color": "rgba(0, 0, 0, 1.000)",
          "family": "sans-serif",
          "size": 15
         },
         "type": "-",
         "visible": true,
         "zeroline": false,
         "zerolinecolor": "rgba(0, 0, 0, 1.000)"
        }
       }
      },
      "image/png": "[encoded data removed]"
     },
     "metadata": {},
     "output_type": "display_data"
    },
    {
     "data": {
      "application/vnd.plotly.v1+json": {
       "data": [
        {
         "colorbar": {
          "title": ""
         },
         "legendgroup": "train",
         "line": {
          "color": "rgba(0, 154, 250, 1.000)",
          "dash": "solid",
          "shape": "linear",
          "width": 1
         },
         "mode": "lines",
         "name": "train",
         "showlegend": true,
         "type": "scatter",
         "x": [
          1,
          2,
          3,
          4,
          5,
          6,
          7,
          8,
          9,
          10,
          11,
          12,
          13,
          14,
          15,
          16,
          17,
          18,
          19,
          20,
          21,
          22,
          23,
          24,
          25,
          26,
          27,
          28,
          29,
          30,
          31,
          32,
          33,
          34,
          35,
          36,
          37,
          38,
          39,
          40,
          41
         ],
         "xaxis": "x",
         "y": [
          0.8003965395480226,
          0.04082685969868172,
          0.10401141713747641,
          0.02446027542372886,
          0.022531661958568705,
          0.017314147834274984,
          0.016567796610169494,
          0.014104578625235398,
          0.013460569679849321,
          0.013671374764595123,
          0.01330284839924667,
          0.012337629472693012,
          0.014011122881355975,
          0.01176730225988698,
          0.01219591572504708,
          0.010980873352165688,
          0.011443561676082847,
          0.011033133239171322,
          0.010565913370998103,
          0.010332568267420017,
          0.010659663370998107,
          0.01051483050847457,
          0.009483109698681713,
          0.010381650188323932,
          0.009253766478342751,
          0.009819679849340845,
          0.009290960451977415,
          0.008705037664783477,
          0.009225812146892665,
          0.009506002824858806,
          0.009342808380414347,
          0.008754884651600792,
          0.009040666195856861,
          0.009435440207156254,
          0.009301847928436913,
          0.009225223634651614,
          0.008075741525423674,
          0.007906073446327655,
          0.01046251177024482,
          0.008599752824858808,
          0.008952801318267367
         ],
         "yaxis": "y",
         "zmax": null,
         "zmin": null
        },
        {
         "colorbar": {
          "title": ""
         },
         "legendgroup": "test",
         "line": {
          "color": "rgba(227, 111, 71, 1.000)",
          "dash": "dash",
          "shape": "linear",
          "width": 1
         },
         "mode": "lines",
         "name": "test",
         "showlegend": true,
         "type": "scatter",
         "x": [
          1,
          2,
          3,
          4,
          5,
          6,
          7,
          8,
          9,
          10,
          11,
          12,
          13,
          14,
          15,
          16,
          17,
          18,
          19,
          20,
          21,
          22,
          23,
          24,
          25,
          26,
          27,
          28,
          29,
          30,
          31,
          32,
          33,
          34,
          35,
          36,
          37,
          38,
          39,
          40,
          41
         ],
         "xaxis": "x",
         "y": [
          0.8218869942946059,
          0.02602210840248964,
          0.05395130964730288,
          0.017810879149377623,
          0.016716804979253097,
          0.01452152489626557,
          0.01969625259336094,
          0.012469528008298703,
          0.012018931535269672,
          0.011409491701244834,
          0.011880186721991648,
          0.010613978215767594,
          0.012650090767634903,
          0.014599001556016566,
          0.012238718879668098,
          0.015053488070539411,
          0.01381483402489625,
          0.014191519709543576,
          0.012577476659751063,
          0.012641986514522863,
          0.0100920643153527,
          0.010740728734439875,
          0.007330459024896263,
          0.008002139522821583,
          0.009640819502074738,
          0.008538641078838172,
          0.007854642116182586,
          0.01049922199170128,
          0.008968490663900375,
          0.010367608921161842,
          0.011067816390041507,
          0.011886670124481302,
          0.014834024896265507,
          0.016328125000000027,
          0.007732754149377574,
          0.009731262966804932,
          0.011584867738589244,
          0.009738394709543519,
          0.008119489107883848,
          0.01297879927385892,
          0.011870785788381744
         ],
         "yaxis": "y",
         "zmax": null,
         "zmin": null
        }
       ],
       "layout": {
        "annotations": [],
        "height": 400,
        "legend": {
         "bgcolor": "rgba(255, 255, 255, 1.000)",
         "bordercolor": "rgba(0, 0, 0, 1.000)",
         "borderwidth": 1,
         "font": {
          "color": "rgba(0, 0, 0, 1.000)",
          "family": "sans-serif",
          "size": 11
         },
         "title": {
          "font": {
           "color": "rgba(0, 0, 0, 1.000)",
           "family": "sans-serif",
           "size": 15
          },
          "text": ""
         },
         "tracegroupgap": 0,
         "traceorder": "normal",
         "x": 1,
         "xanchor": "auto",
         "y": 1,
         "yanchor": "auto"
        },
        "margin": {
         "b": 20,
         "l": 0,
         "r": 0,
         "t": 20
        },
        "paper_bgcolor": "rgba(255, 255, 255, 1.000)",
        "plot_bgcolor": "rgba(255, 255, 255, 1.000)",
        "showlegend": true,
        "width": 600,
        "xaxis": {
         "anchor": "y",
         "domain": [
          0.07646908719743364,
          0.9934383202099737
         ],
         "gridcolor": "rgba(0, 0, 0, 0.100)",
         "gridwidth": 0.5,
         "linecolor": "rgba(0, 0, 0, 1.000)",
         "mirror": false,
         "range": [
          -0.19999999999999996,
          42.2
         ],
         "showgrid": true,
         "showline": true,
         "showticklabels": true,
         "tickangle": 0,
         "tickcolor": "rgb(0, 0, 0)",
         "tickfont": {
          "color": "rgba(0, 0, 0, 1.000)",
          "family": "sans-serif",
          "size": 11
         },
         "tickmode": "array",
         "ticks": "inside",
         "ticktext": [
          "0",
          "10",
          "20",
          "30",
          "40"
         ],
         "tickvals": [
          0,
          10,
          20,
          30,
          40
         ],
         "title": "iterations",
         "titlefont": {
          "color": "rgba(0, 0, 0, 1.000)",
          "family": "sans-serif",
          "size": 15
         },
         "type": "-",
         "visible": true,
         "zeroline": false,
         "zerolinecolor": "rgba(0, 0, 0, 1.000)"
        },
        "yaxis": {
         "anchor": "x",
         "domain": [
          0.07581474190726165,
          0.9901574803149606
         ],
         "gridcolor": "rgba(0, 0, 0, 0.100)",
         "gridwidth": 0.5,
         "linecolor": "rgba(0, 0, 0, 1.000)",
         "mirror": false,
         "range": [
          -0.017106237033195023,
          0.8463236903526972
         ],
         "showgrid": true,
         "showline": true,
         "showticklabels": true,
         "tickangle": 0,
         "tickcolor": "rgb(0, 0, 0)",
         "tickfont": {
          "color": "rgba(0, 0, 0, 1.000)",
          "family": "sans-serif",
          "size": 11
         },
         "tickmode": "array",
         "ticks": "inside",
         "ticktext": [
          "0.0",
          "0.2",
          "0.4",
          "0.6",
          "0.8"
         ],
         "tickvals": [
          0,
          0.2,
          0.4,
          0.6000000000000001,
          0.8
         ],
         "title": "error",
         "titlefont": {
          "color": "rgba(0, 0, 0, 1.000)",
          "family": "sans-serif",
          "size": 15
         },
         "type": "-",
         "visible": true,
         "zeroline": false,
         "zerolinecolor": "rgba(0, 0, 0, 1.000)"
        }
       }
      },
      "image/png": "[encoded data removed]"
     },
     "metadata": {},
     "output_type": "display_data"
    },
    {
     "data": {
      "text/plain": [
       "\"Last Results\""
      ]
     },
     "metadata": {},
     "output_type": "display_data"
    },
    {
     "name": "stdout",
     "output_type": "stream",
     "text": [
      "Development loss = 0.029370224\n",
      "Development accuracy = 0.9918805108921162\n",
      "Training loss = 0.03235759\n",
      "Training accuracy = 0.9895374882297552\n"
     ]
    }
   ],
   "source": [
    "Random.seed!(1)\n",
    "dtrn = pHRIHelper(train_data;shuffled=true);\n",
    "dtst = pHRIHelper(test_data;shuffled=true);\n",
    "model = pHRITrainer(3, 128, 3)\n",
    "display(\"Model Created\")\n",
    "ctrn = []; epochs=40;\n",
    "for b in dtrn\n",
    "   push!(ctrn,b) \n",
    "end\n",
    "trnx10 = collect(flatten(ctrn for i in 1:epochs));\n",
    "display(\"training Started\")\n",
    "model_trained,trnloss,tstloss,trnerror,tsterror = train_custom!(model, trnx10, dtst,dtrn)\n",
    "display(\"training Done\")\n",
    "default(fmt=:png,ls=:auto)\n",
    "loss_graph = plot(1:41, trnloss, label=\"train\", xlabel=\"iterations\", ylabel=\"loss\")\n",
    "plot!(1:41, tstloss, label=\"test\")\n",
    "error_graph = plot(1:41, trnerror, label=\"train\", xlabel=\"iterations\", ylabel=\"error\")\n",
    "plot!(1:41, tsterror, label=\"test\")\n",
    "display(loss_graph)\n",
    "display(error_graph)\n",
    "\n",
    "display(\"Last Results\")\n",
    "dloss = loss(model_trained, dtst)\n",
    "tloss = loss(model_trained, dtrn)\n",
    "dacc = accuracy(model_trained, dtst)\n",
    "tacc = accuracy(model_trained, dtrn)\n",
    "\n",
    "println(\"Development loss = \", dloss)\n",
    "println(\"Development accuracy = \", dacc)\n",
    "println(\"Training loss = \", tloss)\n",
    "println(\"Training accuracy = \", tacc)"
   ]
  },
  {
   "cell_type": "code",
   "execution_count": 53,
   "metadata": {},
   "outputs": [
    {
     "data": {
      "text/plain": [
       "3-element Array{Float64,1}:\n",
       " 0.9870466911011451\n",
       " 0.9881204964996976\n",
       " 0.9797515272153202"
      ]
     },
     "metadata": {},
     "output_type": "display_data"
    },
    {
     "data": {
      "text/plain": [
       "            Expected\n",
       "\n",
       "      1      2      3\n",
       "_____________________\n",
       "  21679    353      0   │1 \n",
       "    216  48202     23   │2 \n",
       "      0    567  14274   │3\tPredicted\n"
      ]
     },
     "metadata": {},
     "output_type": "display_data"
    },
    {
     "data": {
      "text/plain": [
       "0.9881292142116183"
      ]
     },
     "execution_count": 53,
     "metadata": {},
     "output_type": "execute_result"
    }
   ],
   "source": [
    "confusions(model, dtst)"
   ]
  },
  {
   "cell_type": "code",
   "execution_count": 55,
   "metadata": {},
   "outputs": [
    {
     "data": {
      "text/plain": [
       "\"Model Created\""
      ]
     },
     "metadata": {},
     "output_type": "display_data"
    },
    {
     "data": {
      "text/plain": [
       "\"training Started\""
      ]
     },
     "metadata": {},
     "output_type": "display_data"
    },
    {
     "name": "stderr",
     "output_type": "stream",
     "text": [
      "┣████████████████████┫ [100.00%, 185850/185850, 02:29:51/02:29:51, 20.67i/s] 0.07124671\n"
     ]
    },
    {
     "data": {
      "text/plain": [
       "\"training Done\""
      ]
     },
     "metadata": {},
     "output_type": "display_data"
    },
    {
     "data": {
      "application/vnd.plotly.v1+json": {
       "data": [
        {
         "colorbar": {
          "title": ""
         },
         "legendgroup": "train",
         "line": {
          "color": "rgba(0, 154, 250, 1.000)",
          "dash": "solid",
          "shape": "linear",
          "width": 1
         },
         "mode": "lines",
         "name": "train",
         "showlegend": true,
         "type": "scatter",
         "x": [
          1,
          2,
          3,
          4,
          5,
          6,
          7,
          8,
          9,
          10,
          11,
          12,
          13,
          14,
          15,
          16,
          17,
          18,
          19,
          20,
          21,
          22,
          23,
          24,
          25,
          26,
          27,
          28,
          29,
          30,
          31,
          32,
          33,
          34,
          35,
          36,
          37,
          38,
          39,
          40,
          41,
          42,
          43,
          44,
          45,
          46,
          47,
          48,
          49,
          50,
          51,
          52,
          53,
          54,
          55,
          56,
          57,
          58,
          59,
          60,
          61,
          62,
          63,
          64,
          65,
          66,
          67,
          68,
          69,
          70,
          71
         ],
         "xaxis": "x",
         "y": [
          1.0801095,
          0.1261589,
          0.0947658,
          0.0966382,
          0.08498049,
          0.060757816,
          0.05670283,
          0.046163622,
          0.05016343,
          0.04403373,
          0.04262059,
          0.03949756,
          0.046783607,
          0.034730837,
          0.039682556,
          0.04068644,
          0.03149385,
          0.034654837,
          0.032798186,
          0.034487918,
          0.029418966,
          0.033867415,
          0.03427826,
          0.030817987,
          0.02882113,
          0.03011328,
          0.041969888,
          0.028052134,
          0.028597536,
          0.02929531,
          0.029331537,
          0.03170869,
          0.029155076,
          0.025441254,
          0.0277644,
          0.029225573,
          0.026063452,
          0.028966444,
          0.026955454,
          0.02891398,
          0.02445976,
          0.025344543,
          0.025079502,
          0.024084946,
          0.023338338,
          0.02397532,
          0.023536576,
          0.023844866,
          0.024443317,
          0.024676437,
          0.024233652,
          0.024538422,
          0.030770617,
          0.038019657,
          0.033614427,
          0.024075145,
          0.023240525,
          0.022462336,
          0.022244778,
          0.023154717,
          0.02953984,
          0.02514719,
          0.022524336,
          0.0215212,
          0.025047727,
          0.021189013,
          0.021477848,
          0.021071242,
          0.020153513,
          0.020130651,
          0.021444606
         ],
         "yaxis": "y",
         "zmax": null,
         "zmin": null
        },
        {
         "colorbar": {
          "title": ""
         },
         "legendgroup": "test",
         "line": {
          "color": "rgba(227, 111, 71, 1.000)",
          "dash": "dash",
          "shape": "linear",
          "width": 1
         },
         "mode": "lines",
         "name": "test",
         "showlegend": true,
         "type": "scatter",
         "x": [
          1,
          2,
          3,
          4,
          5,
          6,
          7,
          8,
          9,
          10,
          11,
          12,
          13,
          14,
          15,
          16,
          17,
          18,
          19,
          20,
          21,
          22,
          23,
          24,
          25,
          26,
          27,
          28,
          29,
          30,
          31,
          32,
          33,
          34,
          35,
          36,
          37,
          38,
          39,
          40,
          41,
          42,
          43,
          44,
          45,
          46,
          47,
          48,
          49,
          50,
          51,
          52,
          53,
          54,
          55,
          56,
          57,
          58,
          59,
          60,
          61,
          62,
          63,
          64,
          65,
          66,
          67,
          68,
          69,
          70,
          71
         ],
         "xaxis": "x",
         "y": [
          1.0836794,
          0.10125867,
          0.069719076,
          0.08447442,
          0.09664329,
          0.056520496,
          0.05188925,
          0.049592152,
          0.04405628,
          0.064798065,
          0.045636628,
          0.026785253,
          0.063347064,
          0.050784517,
          0.04958605,
          0.04563309,
          0.052402765,
          0.07320795,
          0.046358045,
          0.045959838,
          0.04580317,
          0.0344394,
          0.03572479,
          0.03446056,
          0.050108925,
          0.039311454,
          0.047228046,
          0.048720896,
          0.048112333,
          0.055347737,
          0.054567683,
          0.040532596,
          0.045081895,
          0.06253915,
          0.045504596,
          0.051511995,
          0.039311342,
          0.050244365,
          0.045525134,
          0.058475383,
          0.050808664,
          0.05620711,
          0.046439055,
          0.0455131,
          0.053029977,
          0.05323367,
          0.051283807,
          0.0687411,
          0.08377507,
          0.06393329,
          0.05408087,
          0.07813399,
          0.07960091,
          0.07333107,
          0.08024936,
          0.087409526,
          0.08626065,
          0.07145152,
          0.05794912,
          0.07263436,
          0.08704194,
          0.08324108,
          0.07198538,
          0.08304328,
          0.052803636,
          0.07669582,
          0.064788386,
          0.06483714,
          0.0484289,
          0.060044296,
          0.07124671
         ],
         "yaxis": "y",
         "zmax": null,
         "zmin": null
        }
       ],
       "layout": {
        "annotations": [],
        "height": 400,
        "legend": {
         "bgcolor": "rgba(255, 255, 255, 1.000)",
         "bordercolor": "rgba(0, 0, 0, 1.000)",
         "borderwidth": 1,
         "font": {
          "color": "rgba(0, 0, 0, 1.000)",
          "family": "sans-serif",
          "size": 11
         },
         "title": {
          "font": {
           "color": "rgba(0, 0, 0, 1.000)",
           "family": "sans-serif",
           "size": 15
          },
          "text": ""
         },
         "tracegroupgap": 0,
         "traceorder": "normal",
         "x": 1,
         "xanchor": "auto",
         "y": 1,
         "yanchor": "auto"
        },
        "margin": {
         "b": 20,
         "l": 0,
         "r": 0,
         "t": 20
        },
        "paper_bgcolor": "rgba(255, 255, 255, 1.000)",
        "plot_bgcolor": "rgba(255, 255, 255, 1.000)",
        "showlegend": true,
        "width": 600,
        "xaxis": {
         "anchor": "y",
         "domain": [
          0.09128390201224845,
          0.9934383202099738
         ],
         "gridcolor": "rgba(0, 0, 0, 0.100)",
         "gridwidth": 0.5,
         "linecolor": "rgba(0, 0, 0, 1.000)",
         "mirror": false,
         "range": [
          -1.1,
          73.1
         ],
         "showgrid": true,
         "showline": true,
         "showticklabels": true,
         "tickangle": 0,
         "tickcolor": "rgb(0, 0, 0)",
         "tickfont": {
          "color": "rgba(0, 0, 0, 1.000)",
          "family": "sans-serif",
          "size": 11
         },
         "tickmode": "array",
         "ticks": "inside",
         "ticktext": [
          "0",
          "20",
          "40",
          "60"
         ],
         "tickvals": [
          0,
          20,
          40,
          60
         ],
         "title": "iterations",
         "titlefont": {
          "color": "rgba(0, 0, 0, 1.000)",
          "family": "sans-serif",
          "size": 15
         },
         "type": "-",
         "visible": true,
         "zeroline": false,
         "zerolinecolor": "rgba(0, 0, 0, 1.000)"
        },
        "yaxis": {
         "anchor": "x",
         "domain": [
          0.07581474190726165,
          0.9901574803149606
         ],
         "gridcolor": "rgba(0, 0, 0, 0.100)",
         "gridwidth": 0.5,
         "linecolor": "rgba(0, 0, 0, 1.000)",
         "mirror": false,
         "range": [
          -0.011775812525302173,
          1.115585901234299
         ],
         "showgrid": true,
         "showline": true,
         "showticklabels": true,
         "tickangle": 0,
         "tickcolor": "rgb(0, 0, 0)",
         "tickfont": {
          "color": "rgba(0, 0, 0, 1.000)",
          "family": "sans-serif",
          "size": 11
         },
         "tickmode": "array",
         "ticks": "inside",
         "ticktext": [
          "0.00",
          "0.25",
          "0.50",
          "0.75",
          "1.00"
         ],
         "tickvals": [
          0,
          0.25,
          0.5,
          0.75,
          1
         ],
         "title": "loss",
         "titlefont": {
          "color": "rgba(0, 0, 0, 1.000)",
          "family": "sans-serif",
          "size": 15
         },
         "type": "-",
         "visible": true,
         "zeroline": false,
         "zerolinecolor": "rgba(0, 0, 0, 1.000)"
        }
       }
      },
      "image/png": "[encoded data removed]"
     },
     "metadata": {},
     "output_type": "display_data"
    },
    {
     "data": {
      "application/vnd.plotly.v1+json": {
       "data": [
        {
         "colorbar": {
          "title": ""
         },
         "legendgroup": "train",
         "line": {
          "color": "rgba(0, 154, 250, 1.000)",
          "dash": "solid",
          "shape": "linear",
          "width": 1
         },
         "mode": "lines",
         "name": "train",
         "showlegend": true,
         "type": "scatter",
         "x": [
          1,
          2,
          3,
          4,
          5,
          6,
          7,
          8,
          9,
          10,
          11,
          12,
          13,
          14,
          15,
          16,
          17,
          18,
          19,
          20,
          21,
          22,
          23,
          24,
          25,
          26,
          27,
          28,
          29,
          30,
          31,
          32,
          33,
          34,
          35,
          36,
          37,
          38,
          39,
          40,
          41,
          42,
          43,
          44,
          45,
          46,
          47,
          48,
          49,
          50,
          51,
          52,
          53,
          54,
          55,
          56,
          57,
          58,
          59,
          60,
          61,
          62,
          63,
          64,
          65,
          66,
          67,
          68,
          69,
          70,
          71
         ],
         "xaxis": "x",
         "y": [
          0.8003965395480226,
          0.029160310734463235,
          0.02912888418079096,
          0.02460869821092282,
          0.024114995291902086,
          0.017192737758945364,
          0.015937676553672286,
          0.014220986346516029,
          0.014394420903954819,
          0.013330508474576286,
          0.013630178907721335,
          0.01272116290018832,
          0.014566266478342804,
          0.011426141713747673,
          0.01205173022598871,
          0.011872351694915295,
          0.010265830979284352,
          0.010926024011299384,
          0.010644656308851252,
          0.011570268361581926,
          0.009869173728813574,
          0.010662841337099827,
          0.010382179849340867,
          0.009913841807909551,
          0.009332274011299435,
          0.009196151129943542,
          0.011561499529190167,
          0.008923787664783411,
          0.00923328625235409,
          0.009515183615819156,
          0.009382474105461447,
          0.00933009651600758,
          0.008739406779661008,
          0.008167255178907706,
          0.008996586629001935,
          0.009163253295668583,
          0.008875647363465133,
          0.009201094632768414,
          0.009032485875706264,
          0.009587511770244861,
          0.008227401129943468,
          0.008126059322033918,
          0.008424964689265568,
          0.008082803672316397,
          0.00765430790960453,
          0.007869291431261805,
          0.007727577683615872,
          0.007994467984934084,
          0.007984227871939753,
          0.007935087099811722,
          0.008016772598870014,
          0.00791431261770248,
          0.008939559792843665,
          0.011273658192090363,
          0.010327036252354094,
          0.007856461864406805,
          0.0076130532015066255,
          0.0075194797551788595,
          0.007352636534839974,
          0.007791490112994404,
          0.009385946327683636,
          0.00793826506591333,
          0.007099340866290049,
          0.007106167608286307,
          0.00809616290018833,
          0.006854637476459535,
          0.006630532015065915,
          0.006722869585687352,
          0.006558733521657256,
          0.006511181732580029,
          0.006603872410546163
         ],
         "yaxis": "y",
         "zmax": null,
         "zmin": null
        },
        {
         "colorbar": {
          "title": ""
         },
         "legendgroup": "test",
         "line": {
          "color": "rgba(227, 111, 71, 1.000)",
          "dash": "dash",
          "shape": "linear",
          "width": 1
         },
         "mode": "lines",
         "name": "test",
         "showlegend": true,
         "type": "scatter",
         "x": [
          1,
          2,
          3,
          4,
          5,
          6,
          7,
          8,
          9,
          10,
          11,
          12,
          13,
          14,
          15,
          16,
          17,
          18,
          19,
          20,
          21,
          22,
          23,
          24,
          25,
          26,
          27,
          28,
          29,
          30,
          31,
          32,
          33,
          34,
          35,
          36,
          37,
          38,
          39,
          40,
          41,
          42,
          43,
          44,
          45,
          46,
          47,
          48,
          49,
          50,
          51,
          52,
          53,
          54,
          55,
          56,
          57,
          58,
          59,
          60,
          61,
          62,
          63,
          64,
          65,
          66,
          67,
          68,
          69,
          70,
          71
         ],
         "xaxis": "x",
         "y": [
          0.8218869942946059,
          0.022307767116182542,
          0.016702865663900446,
          0.02126847769709539,
          0.024695604253112013,
          0.015021071058091251,
          0.012022497406638966,
          0.012010503112033222,
          0.011029564315352736,
          0.015847380705394154,
          0.010670383817427354,
          0.008034556535269743,
          0.014967907157676374,
          0.010716091804979233,
          0.012814445020746912,
          0.011904499481327768,
          0.011795902489626586,
          0.014205134854771817,
          0.009326050311203371,
          0.011578060165975068,
          0.00933934128630709,
          0.008288381742738604,
          0.00704097510373447,
          0.007822873443983358,
          0.009487487033195019,
          0.008125000000000049,
          0.008632002074688838,
          0.008940936203319483,
          0.008558091286307024,
          0.010924857365145257,
          0.01065612033195018,
          0.009372082468879661,
          0.008425181535269721,
          0.011876945020746876,
          0.00921259076763481,
          0.008803163900414912,
          0.008228410269709552,
          0.00951731068464734,
          0.009386994294605766,
          0.009945215248962636,
          0.008901063278008325,
          0.009336423755186729,
          0.009467712655601646,
          0.009098482883817427,
          0.009041753112033146,
          0.009901452282157663,
          0.010571187759336076,
          0.01170513485477176,
          0.013547069502074738,
          0.01063148340248965,
          0.010912863070539403,
          0.01424662863070536,
          0.014282611514522814,
          0.014021654564315367,
          0.014517959024896276,
          0.014730938796680526,
          0.016244489107883786,
          0.012536955394190863,
          0.009952671161825744,
          0.013026128112033186,
          0.016513226141078863,
          0.016424403526970943,
          0.01408713692946062,
          0.014755575726141057,
          0.013125324170124464,
          0.015483661825726136,
          0.012678941908713659,
          0.013326957987551902,
          0.01032935684647307,
          0.012185230809128589,
          0.012801154045643193
         ],
         "yaxis": "y",
         "zmax": null,
         "zmin": null
        }
       ],
       "layout": {
        "annotations": [],
        "height": 400,
        "legend": {
         "bgcolor": "rgba(255, 255, 255, 1.000)",
         "bordercolor": "rgba(0, 0, 0, 1.000)",
         "borderwidth": 1,
         "font": {
          "color": "rgba(0, 0, 0, 1.000)",
          "family": "sans-serif",
          "size": 11
         },
         "title": {
          "font": {
           "color": "rgba(0, 0, 0, 1.000)",
           "family": "sans-serif",
           "size": 15
          },
          "text": ""
         },
         "tracegroupgap": 0,
         "traceorder": "normal",
         "x": 1,
         "xanchor": "auto",
         "y": 1,
         "yanchor": "auto"
        },
        "margin": {
         "b": 20,
         "l": 0,
         "r": 0,
         "t": 20
        },
        "paper_bgcolor": "rgba(255, 255, 255, 1.000)",
        "plot_bgcolor": "rgba(255, 255, 255, 1.000)",
        "showlegend": true,
        "width": 600,
        "xaxis": {
         "anchor": "y",
         "domain": [
          0.07646908719743364,
          0.9934383202099737
         ],
         "gridcolor": "rgba(0, 0, 0, 0.100)",
         "gridwidth": 0.5,
         "linecolor": "rgba(0, 0, 0, 1.000)",
         "mirror": false,
         "range": [
          -1.1,
          73.1
         ],
         "showgrid": true,
         "showline": true,
         "showticklabels": true,
         "tickangle": 0,
         "tickcolor": "rgb(0, 0, 0)",
         "tickfont": {
          "color": "rgba(0, 0, 0, 1.000)",
          "family": "sans-serif",
          "size": 11
         },
         "tickmode": "array",
         "ticks": "inside",
         "ticktext": [
          "0",
          "20",
          "40",
          "60"
         ],
         "tickvals": [
          0,
          20,
          40,
          60
         ],
         "title": "iterations",
         "titlefont": {
          "color": "rgba(0, 0, 0, 1.000)",
          "family": "sans-serif",
          "size": 15
         },
         "type": "-",
         "visible": true,
         "zeroline": false,
         "zerolinecolor": "rgba(0, 0, 0, 1.000)"
        },
        "yaxis": {
         "anchor": "x",
         "domain": [
          0.07581474190726165,
          0.9901574803149606
         ],
         "gridcolor": "rgba(0, 0, 0, 0.100)",
         "gridwidth": 0.5,
         "linecolor": "rgba(0, 0, 0, 1.000)",
         "mirror": false,
         "range": [
          -0.017950092644280744,
          0.8463482686714666
         ],
         "showgrid": true,
         "showline": true,
         "showticklabels": true,
         "tickangle": 0,
         "tickcolor": "rgb(0, 0, 0)",
         "tickfont": {
          "color": "rgba(0, 0, 0, 1.000)",
          "family": "sans-serif",
          "size": 11
         },
         "tickmode": "array",
         "ticks": "inside",
         "ticktext": [
          "0.0",
          "0.2",
          "0.4",
          "0.6",
          "0.8"
         ],
         "tickvals": [
          0,
          0.2,
          0.4,
          0.6000000000000001,
          0.8
         ],
         "title": "error",
         "titlefont": {
          "color": "rgba(0, 0, 0, 1.000)",
          "family": "sans-serif",
          "size": 15
         },
         "type": "-",
         "visible": true,
         "zeroline": false,
         "zerolinecolor": "rgba(0, 0, 0, 1.000)"
        }
       }
      },
      "image/png": "[encoded data removed]"
     },
     "metadata": {},
     "output_type": "display_data"
    },
    {
     "data": {
      "text/plain": [
       "\"Last Results\""
      ]
     },
     "metadata": {},
     "output_type": "display_data"
    },
    {
     "name": "stdout",
     "output_type": "stream",
     "text": [
      "Development loss = 0.026785253\n",
      "Development accuracy = 0.9919654434647303\n",
      "Training loss = 0.03949765\n",
      "Training accuracy = 0.9872788370998117\n"
     ]
    }
   ],
   "source": [
    "Random.seed!(1)\n",
    "dtrn = pHRIHelper(train_data;shuffled=true);\n",
    "dtst = pHRIHelper(test_data;shuffled=true);\n",
    "model = pHRITrainer(3, 128, 3)\n",
    "display(\"Model Created\")\n",
    "ctrn = []; epochs=70;\n",
    "for b in dtrn\n",
    "   push!(ctrn,b) \n",
    "end\n",
    "trnx10 = collect(flatten(ctrn for i in 1:epochs));\n",
    "display(\"training Started\")\n",
    "model_trained,trnloss,tstloss,trnerror,tsterror = train_custom!(model, trnx10, dtst,dtrn)\n",
    "display(\"training Done\")\n",
    "default(fmt=:png,ls=:auto)\n",
    "loss_graph = plot(1:71, trnloss, label=\"train\", xlabel=\"iterations\", ylabel=\"loss\")\n",
    "plot!(1:71, tstloss, label=\"test\")\n",
    "error_graph = plot(1:71, trnerror, label=\"train\", xlabel=\"iterations\", ylabel=\"error\")\n",
    "plot!(1:71, tsterror, label=\"test\")\n",
    "display(loss_graph)\n",
    "display(error_graph)\n",
    "\n",
    "display(\"Last Results\")\n",
    "dloss = loss(model_trained, dtst)\n",
    "tloss = loss(model_trained, dtrn)\n",
    "dacc = accuracy(model_trained, dtst)\n",
    "tacc = accuracy(model_trained, dtrn)\n",
    "\n",
    "println(\"Development loss = \", dloss)\n",
    "println(\"Development accuracy = \", dacc)\n",
    "println(\"Training loss = \", tloss)\n",
    "println(\"Training accuracy = \", tacc)"
   ]
  },
  {
   "cell_type": "code",
   "execution_count": 30,
   "metadata": {},
   "outputs": [
    {
     "name": "stdout",
     "output_type": "stream",
     "text": [
      "Development loss = 0.07309179\n",
      "Development accuracy = 0.9881292142116183\n",
      "Training loss = 0.027983489\n",
      "Training accuracy = 0.9910471986817326\n"
     ]
    }
   ],
   "source": [
    "dloss = loss(model, dtst)\n",
    "tloss = loss(model, dtrn)\n",
    "dacc = accuracy(model, dtst)\n",
    "tacc = accuracy(model, dtrn)\n",
    "\n",
    "println(\"Development loss = \", dloss)\n",
    "println(\"Development accuracy = \", dacc)\n",
    "println(\"Training loss = \", tloss)\n",
    "println(\"Training accuracy = \", tacc)"
   ]
  },
  {
   "cell_type": "code",
   "execution_count": 18,
   "metadata": {},
   "outputs": [
    {
     "data": {
      "text/plain": [
       "\"Model Created\""
      ]
     },
     "metadata": {},
     "output_type": "display_data"
    },
    {
     "data": {
      "text/plain": [
       "\"training Started\""
      ]
     },
     "metadata": {},
     "output_type": "display_data"
    },
    {
     "name": "stderr",
     "output_type": "stream",
     "text": [
      "┌ Warning: nll(scores, answers::KnetArray{Int32,2} is inefficient, nll(scores, answers::Array{<:Integer}) is better.\n",
      "└ @ Knet.Ops20_gpu /kuacc/users/berkguler20/.julia/packages/Knet/OYNCT/src/ops20_gpu/loss.jl:8\n",
      "┌ Warning: accuracy(scores, answers::KnetArray{Int32,2} is inefficient, nll(scores, answers::Array{<:Integer}) is better.\n",
      "└ @ Knet.Ops20_gpu /kuacc/users/berkguler20/.julia/packages/Knet/OYNCT/src/ops20_gpu/loss.jl:13\n",
      "┣████████████████████┫ [100.00%, 7965/7965, 08:04/08:04, 16.44i/s] 0.08339807\n"
     ]
    },
    {
     "data": {
      "text/plain": [
       "\"training Done\""
      ]
     },
     "metadata": {},
     "output_type": "display_data"
    },
    {
     "data": {
      "application/vnd.plotly.v1+json": {
       "data": [
        {
         "colorbar": {
          "title": ""
         },
         "legendgroup": "train",
         "line": {
          "color": "rgba(0, 154, 250, 1.000)",
          "dash": "solid",
          "shape": "linear",
          "width": 1
         },
         "mode": "lines",
         "name": "train",
         "showlegend": true,
         "type": "scatter",
         "x": [
          1,
          2,
          3,
          4
         ],
         "xaxis": "x",
         "y": [
          1.0801095,
          0.1303808,
          0.12856822,
          0.11471526
         ],
         "yaxis": "y",
         "zmax": null,
         "zmin": null
        },
        {
         "colorbar": {
          "title": ""
         },
         "legendgroup": "test",
         "line": {
          "color": "rgba(227, 111, 71, 1.000)",
          "dash": "dash",
          "shape": "linear",
          "width": 1
         },
         "mode": "lines",
         "name": "test",
         "showlegend": true,
         "type": "scatter",
         "x": [
          1,
          2,
          3,
          4
         ],
         "xaxis": "x",
         "y": [
          1.0836794,
          0.08516548,
          0.08086863,
          0.08339807
         ],
         "yaxis": "y",
         "zmax": null,
         "zmin": null
        }
       ],
       "layout": {
        "annotations": [],
        "height": 400,
        "legend": {
         "bgcolor": "rgba(255, 255, 255, 1.000)",
         "bordercolor": "rgba(0, 0, 0, 1.000)",
         "borderwidth": 1,
         "font": {
          "color": "rgba(0, 0, 0, 1.000)",
          "family": "sans-serif",
          "size": 11
         },
         "title": {
          "font": {
           "color": "rgba(0, 0, 0, 1.000)",
           "family": "sans-serif",
           "size": 15
          },
          "text": ""
         },
         "tracegroupgap": 0,
         "traceorder": "normal",
         "x": 1,
         "xanchor": "auto",
         "y": 1,
         "yanchor": "auto"
        },
        "margin": {
         "b": 20,
         "l": 0,
         "r": 0,
         "t": 20
        },
        "paper_bgcolor": "rgba(255, 255, 255, 1.000)",
        "plot_bgcolor": "rgba(255, 255, 255, 1.000)",
        "showlegend": true,
        "width": 600,
        "xaxis": {
         "anchor": "y",
         "domain": [
          0.07646908719743364,
          0.9934383202099737
         ],
         "gridcolor": "rgba(0, 0, 0, 0.100)",
         "gridwidth": 0.5,
         "linecolor": "rgba(0, 0, 0, 1.000)",
         "mirror": false,
         "range": [
          0.91,
          4.09
         ],
         "showgrid": true,
         "showline": true,
         "showticklabels": true,
         "tickangle": 0,
         "tickcolor": "rgb(0, 0, 0)",
         "tickfont": {
          "color": "rgba(0, 0, 0, 1.000)",
          "family": "sans-serif",
          "size": 11
         },
         "tickmode": "array",
         "ticks": "inside",
         "ticktext": [
          "1",
          "2",
          "3",
          "4"
         ],
         "tickvals": [
          1,
          2,
          3,
          4
         ],
         "title": "iterations",
         "titlefont": {
          "color": "rgba(0, 0, 0, 1.000)",
          "family": "sans-serif",
          "size": 15
         },
         "type": "-",
         "visible": true,
         "zeroline": false,
         "zerolinecolor": "rgba(0, 0, 0, 1.000)"
        },
        "yaxis": {
         "anchor": "x",
         "domain": [
          0.07581474190726165,
          0.9901574803149606
         ],
         "gridcolor": "rgba(0, 0, 0, 0.100)",
         "gridwidth": 0.5,
         "linecolor": "rgba(0, 0, 0, 1.000)",
         "mirror": false,
         "range": [
          0.050784307420253756,
          1.1137637618184089
         ],
         "showgrid": true,
         "showline": true,
         "showticklabels": true,
         "tickangle": 0,
         "tickcolor": "rgb(0, 0, 0)",
         "tickfont": {
          "color": "rgba(0, 0, 0, 1.000)",
          "family": "sans-serif",
          "size": 11
         },
         "tickmode": "array",
         "ticks": "inside",
         "ticktext": [
          "0.2",
          "0.4",
          "0.6",
          "0.8",
          "1.0"
         ],
         "tickvals": [
          0.2,
          0.4,
          0.6000000000000001,
          0.8,
          1
         ],
         "title": "loss",
         "titlefont": {
          "color": "rgba(0, 0, 0, 1.000)",
          "family": "sans-serif",
          "size": 15
         },
         "type": "-",
         "visible": true,
         "zeroline": false,
         "zerolinecolor": "rgba(0, 0, 0, 1.000)"
        }
       }
      },
      "image/png": "[encoded data removed]"
     },
     "metadata": {},
     "output_type": "display_data"
    },
    {
     "data": {
      "application/vnd.plotly.v1+json": {
       "data": [
        {
         "colorbar": {
          "title": ""
         },
         "legendgroup": "train",
         "line": {
          "color": "rgba(0, 154, 250, 1.000)",
          "dash": "solid",
          "shape": "linear",
          "width": 1
         },
         "mode": "lines",
         "name": "train",
         "showlegend": true,
         "type": "scatter",
         "x": [
          1,
          2,
          3,
          4
         ],
         "xaxis": "x",
         "y": [
          0.8003965395480226,
          0.03295697975517886,
          0.029644420903954805,
          0.028277954331450084
         ],
         "yaxis": "y",
         "zmax": null,
         "zmin": null
        },
        {
         "colorbar": {
          "title": ""
         },
         "legendgroup": "test",
         "line": {
          "color": "rgba(227, 111, 71, 1.000)",
          "dash": "dash",
          "shape": "linear",
          "width": 1
         },
         "mode": "lines",
         "name": "test",
         "showlegend": true,
         "type": "scatter",
         "x": [
          1,
          2,
          3,
          4
         ],
         "xaxis": "x",
         "y": [
          0.8218869942946059,
          0.018884206431535322,
          0.01754603215767636,
          0.01777781379668053
         ],
         "yaxis": "y",
         "zmax": null,
         "zmin": null
        }
       ],
       "layout": {
        "annotations": [],
        "height": 400,
        "legend": {
         "bgcolor": "rgba(255, 255, 255, 1.000)",
         "bordercolor": "rgba(0, 0, 0, 1.000)",
         "borderwidth": 1,
         "font": {
          "color": "rgba(0, 0, 0, 1.000)",
          "family": "sans-serif",
          "size": 11
         },
         "title": {
          "font": {
           "color": "rgba(0, 0, 0, 1.000)",
           "family": "sans-serif",
           "size": 15
          },
          "text": ""
         },
         "tracegroupgap": 0,
         "traceorder": "normal",
         "x": 1,
         "xanchor": "auto",
         "y": 1,
         "yanchor": "auto"
        },
        "margin": {
         "b": 20,
         "l": 0,
         "r": 0,
         "t": 20
        },
        "paper_bgcolor": "rgba(255, 255, 255, 1.000)",
        "plot_bgcolor": "rgba(255, 255, 255, 1.000)",
        "showlegend": true,
        "width": 600,
        "xaxis": {
         "anchor": "y",
         "domain": [
          0.07646908719743364,
          0.9934383202099737
         ],
         "gridcolor": "rgba(0, 0, 0, 0.100)",
         "gridwidth": 0.5,
         "linecolor": "rgba(0, 0, 0, 1.000)",
         "mirror": false,
         "range": [
          0.91,
          4.09
         ],
         "showgrid": true,
         "showline": true,
         "showticklabels": true,
         "tickangle": 0,
         "tickcolor": "rgb(0, 0, 0)",
         "tickfont": {
          "color": "rgba(0, 0, 0, 1.000)",
          "family": "sans-serif",
          "size": 11
         },
         "tickmode": "array",
         "ticks": "inside",
         "ticktext": [
          "1",
          "2",
          "3",
          "4"
         ],
         "tickvals": [
          1,
          2,
          3,
          4
         ],
         "title": "iterations",
         "titlefont": {
          "color": "rgba(0, 0, 0, 1.000)",
          "family": "sans-serif",
          "size": 15
         },
         "type": "-",
         "visible": true,
         "zeroline": false,
         "zerolinecolor": "rgba(0, 0, 0, 1.000)"
        },
        "yaxis": {
         "anchor": "x",
         "domain": [
          0.07581474190726165,
          0.9901574803149606
         ],
         "gridcolor": "rgba(0, 0, 0, 0.100)",
         "gridwidth": 0.5,
         "linecolor": "rgba(0, 0, 0, 1.000)",
         "mirror": false,
         "range": [
          -0.006584196706431525,
          0.8460172231587137
         ],
         "showgrid": true,
         "showline": true,
         "showticklabels": true,
         "tickangle": 0,
         "tickcolor": "rgb(0, 0, 0)",
         "tickfont": {
          "color": "rgba(0, 0, 0, 1.000)",
          "family": "sans-serif",
          "size": 11
         },
         "tickmode": "array",
         "ticks": "inside",
         "ticktext": [
          "0.0",
          "0.2",
          "0.4",
          "0.6",
          "0.8"
         ],
         "tickvals": [
          0,
          0.2,
          0.4,
          0.6000000000000001,
          0.8
         ],
         "title": "error",
         "titlefont": {
          "color": "rgba(0, 0, 0, 1.000)",
          "family": "sans-serif",
          "size": 15
         },
         "type": "-",
         "visible": true,
         "zeroline": false,
         "zerolinecolor": "rgba(0, 0, 0, 1.000)"
        }
       }
      },
      "image/png": "[encoded data removed]"
     },
     "metadata": {},
     "output_type": "display_data"
    },
    {
     "data": {
      "text/plain": [
       "\"Last Results\""
      ]
     },
     "metadata": {},
     "output_type": "display_data"
    },
    {
     "name": "stderr",
     "output_type": "stream",
     "text": [
      "┌ Warning: accuracy(model,data; o...) is deprecated, please use accuracy(model; data=data, o...)\n",
      "└ @ Knet.Ops20 /kuacc/users/berkguler20/.julia/packages/Knet/OYNCT/src/ops20/loss.jl:205\n"
     ]
    },
    {
     "name": "stdout",
     "output_type": "stream",
     "text": [
      "Development loss = 0.0808686\n",
      "Development accuracy = 0.9824539678423236\n",
      "Training loss = 0.12856832\n",
      "Training accuracy = 0.9703555790960452\n"
     ]
    }
   ],
   "source": [
    "Random.seed!(1)\n",
    "dtrn = pHRIHelper(train_data;shuffled=true);\n",
    "dtst = pHRIHelper(test_data;shuffled=true);\n",
    "model = pHRITrainer(3, 128, 3)\n",
    "display(\"Model Created\")\n",
    "ctrn = []; epochs=3;\n",
    "for b in dtrn\n",
    "   push!(ctrn,b) \n",
    "end\n",
    "trnx10 = collect(flatten(ctrn for i in 1:epochs));\n",
    "display(\"training Started\")\n",
    "model_trained,trnloss,tstloss,trnerror,tsterror = train_custom!(model, trnx10, dtst,dtrn)\n",
    "display(\"training Done\")\n",
    "default(fmt=:png,ls=:auto)\n",
    "loss_graph = plot(1:4, trnloss, label=\"train\", xlabel=\"iterations\", ylabel=\"loss\")\n",
    "plot!(1:4, tstloss, label=\"test\")\n",
    "error_graph = plot(1:4, trnerror, label=\"train\", xlabel=\"iterations\", ylabel=\"error\")\n",
    "plot!(1:4, tsterror, label=\"test\")\n",
    "display(loss_graph)\n",
    "display(error_graph)\n",
    "\n",
    "display(\"Last Results\")\n",
    "dloss = loss(model_trained, dtst)\n",
    "tloss = loss(model_trained, dtrn)\n",
    "dacc = accuracy(model_trained, dtst)\n",
    "tacc = accuracy(model_trained, dtrn)\n",
    "\n",
    "println(\"Development loss = \", dloss)\n",
    "println(\"Development accuracy = \", dacc)\n",
    "println(\"Training loss = \", tloss)\n",
    "println(\"Training accuracy = \", tacc)"
   ]
  },
  {
   "cell_type": "code",
   "execution_count": 286,
   "metadata": {},
   "outputs": [
    {
     "data": {
      "text/plain": [
       "\"Model Created\""
      ]
     },
     "metadata": {},
     "output_type": "display_data"
    },
    {
     "data": {
      "text/plain": [
       "\"training Started\""
      ]
     },
     "metadata": {},
     "output_type": "display_data"
    },
    {
     "name": "stderr",
     "output_type": "stream",
     "text": [
      "┣████████████████████┫ [100.00%, 13350/13350, 16:42/16:42, 13.32i/s] 0.10547353\n"
     ]
    },
    {
     "data": {
      "text/plain": [
       "\"training Done\""
      ]
     },
     "metadata": {},
     "output_type": "display_data"
    },
    {
     "data": {
      "application/vnd.plotly.v1+json": {
       "data": [
        {
         "colorbar": {
          "title": ""
         },
         "legendgroup": "train",
         "line": {
          "color": "rgba(0, 154, 250, 1.000)",
          "dash": "solid",
          "shape": "linear",
          "width": 1
         },
         "mode": "lines",
         "name": "train",
         "showlegend": true,
         "type": "scatter",
         "x": [
          1,
          2,
          3,
          4,
          5,
          6
         ],
         "xaxis": "x",
         "y": [
          1.0539855,
          0.122576244,
          0.11537245,
          0.10419864,
          0.09619782,
          0.07423469
         ],
         "yaxis": "y",
         "zmax": null,
         "zmin": null
        },
        {
         "colorbar": {
          "title": ""
         },
         "legendgroup": "test",
         "line": {
          "color": "rgba(227, 111, 71, 1.000)",
          "dash": "dash",
          "shape": "linear",
          "width": 1
         },
         "mode": "lines",
         "name": "test",
         "showlegend": true,
         "type": "scatter",
         "x": [
          1,
          2,
          3,
          4,
          5,
          6
         ],
         "xaxis": "x",
         "y": [
          1.0579042,
          0.13689077,
          0.14140336,
          0.13301031,
          0.12868173,
          0.10547353
         ],
         "yaxis": "y",
         "zmax": null,
         "zmin": null
        }
       ],
       "layout": {
        "annotations": [],
        "height": 400,
        "legend": {
         "bgcolor": "rgba(255, 255, 255, 1.000)",
         "bordercolor": "rgba(0, 0, 0, 1.000)",
         "borderwidth": 1,
         "font": {
          "color": "rgba(0, 0, 0, 1.000)",
          "family": "sans-serif",
          "size": 11
         },
         "title": {
          "font": {
           "color": "rgba(0, 0, 0, 1.000)",
           "family": "sans-serif",
           "size": 15
          },
          "text": ""
         },
         "tracegroupgap": 0,
         "traceorder": "normal",
         "x": 1,
         "xanchor": "auto",
         "y": 1,
         "yanchor": "auto"
        },
        "margin": {
         "b": 20,
         "l": 0,
         "r": 0,
         "t": 20
        },
        "paper_bgcolor": "rgba(255, 255, 255, 1.000)",
        "plot_bgcolor": "rgba(255, 255, 255, 1.000)",
        "showlegend": true,
        "width": 600,
        "xaxis": {
         "anchor": "y",
         "domain": [
          0.07646908719743364,
          0.9934383202099737
         ],
         "gridcolor": "rgba(0, 0, 0, 0.100)",
         "gridwidth": 0.5,
         "linecolor": "rgba(0, 0, 0, 1.000)",
         "mirror": false,
         "range": [
          0.85,
          6.15
         ],
         "showgrid": true,
         "showline": true,
         "showticklabels": true,
         "tickangle": 0,
         "tickcolor": "rgb(0, 0, 0)",
         "tickfont": {
          "color": "rgba(0, 0, 0, 1.000)",
          "family": "sans-serif",
          "size": 11
         },
         "tickmode": "array",
         "ticks": "inside",
         "ticktext": [
          "1",
          "2",
          "3",
          "4",
          "5",
          "6"
         ],
         "tickvals": [
          1,
          2,
          3,
          4,
          5,
          6
         ],
         "title": "iterations",
         "titlefont": {
          "color": "rgba(0, 0, 0, 1.000)",
          "family": "sans-serif",
          "size": 15
         },
         "type": "-",
         "visible": true,
         "zeroline": false,
         "zerolinecolor": "rgba(0, 0, 0, 1.000)"
        },
        "yaxis": {
         "anchor": "x",
         "domain": [
          0.07581474190726165,
          0.9901574803149606
         ],
         "gridcolor": "rgba(0, 0, 0, 0.100)",
         "gridwidth": 0.5,
         "linecolor": "rgba(0, 0, 0, 1.000)",
         "mirror": false,
         "range": [
          0.044724600091576576,
          1.0874143301695585
         ],
         "showgrid": true,
         "showline": true,
         "showticklabels": true,
         "tickangle": 0,
         "tickcolor": "rgb(0, 0, 0)",
         "tickfont": {
          "color": "rgba(0, 0, 0, 1.000)",
          "family": "sans-serif",
          "size": 11
         },
         "tickmode": "array",
         "ticks": "inside",
         "ticktext": [
          "0.2",
          "0.4",
          "0.6",
          "0.8",
          "1.0"
         ],
         "tickvals": [
          0.2,
          0.4,
          0.6000000000000001,
          0.8,
          1
         ],
         "title": "loss",
         "titlefont": {
          "color": "rgba(0, 0, 0, 1.000)",
          "family": "sans-serif",
          "size": 15
         },
         "type": "-",
         "visible": true,
         "zeroline": false,
         "zerolinecolor": "rgba(0, 0, 0, 1.000)"
        }
       }
      },
      "image/png": "[encoded data removed]"
     },
     "metadata": {},
     "output_type": "display_data"
    },
    {
     "data": {
      "application/vnd.plotly.v1+json": {
       "data": [
        {
         "colorbar": {
          "title": ""
         },
         "legendgroup": "train",
         "line": {
          "color": "rgba(0, 154, 250, 1.000)",
          "dash": "solid",
          "shape": "linear",
          "width": 1
         },
         "mode": "lines",
         "name": "train",
         "showlegend": true,
         "type": "scatter",
         "x": [
          1,
          2,
          3,
          4,
          5,
          6
         ],
         "xaxis": "x",
         "y": [
          0.4367884632398479,
          0.028266124037866103,
          0.028860656462885936,
          0.028233920198177498,
          0.027191719012651494,
          0.023164941460969035
         ],
         "yaxis": "y",
         "zmax": null,
         "zmin": null
        },
        {
         "colorbar": {
          "title": ""
         },
         "legendgroup": "test",
         "line": {
          "color": "rgba(227, 111, 71, 1.000)",
          "dash": "dash",
          "shape": "linear",
          "width": 1
         },
         "mode": "lines",
         "name": "test",
         "showlegend": true,
         "type": "scatter",
         "x": [
          1,
          2,
          3,
          4,
          5,
          6
         ],
         "xaxis": "x",
         "y": [
          0.4623995454176475,
          0.03268479584381845,
          0.0339611981492004,
          0.034140433476743226,
          0.03435928240928643,
          0.030947641854046637
         ],
         "yaxis": "y",
         "zmax": null,
         "zmin": null
        }
       ],
       "layout": {
        "annotations": [],
        "height": 400,
        "legend": {
         "bgcolor": "rgba(255, 255, 255, 1.000)",
         "bordercolor": "rgba(0, 0, 0, 1.000)",
         "borderwidth": 1,
         "font": {
          "color": "rgba(0, 0, 0, 1.000)",
          "family": "sans-serif",
          "size": 11
         },
         "title": {
          "font": {
           "color": "rgba(0, 0, 0, 1.000)",
           "family": "sans-serif",
           "size": 15
          },
          "text": ""
         },
         "tracegroupgap": 0,
         "traceorder": "normal",
         "x": 1,
         "xanchor": "auto",
         "y": 1,
         "yanchor": "auto"
        },
        "margin": {
         "b": 20,
         "l": 0,
         "r": 0,
         "t": 20
        },
        "paper_bgcolor": "rgba(255, 255, 255, 1.000)",
        "plot_bgcolor": "rgba(255, 255, 255, 1.000)",
        "showlegend": true,
        "width": 600,
        "xaxis": {
         "anchor": "y",
         "domain": [
          0.07646908719743364,
          0.9934383202099737
         ],
         "gridcolor": "rgba(0, 0, 0, 0.100)",
         "gridwidth": 0.5,
         "linecolor": "rgba(0, 0, 0, 1.000)",
         "mirror": false,
         "range": [
          0.85,
          6.15
         ],
         "showgrid": true,
         "showline": true,
         "showticklabels": true,
         "tickangle": 0,
         "tickcolor": "rgb(0, 0, 0)",
         "tickfont": {
          "color": "rgba(0, 0, 0, 1.000)",
          "family": "sans-serif",
          "size": 11
         },
         "tickmode": "array",
         "ticks": "inside",
         "ticktext": [
          "1",
          "2",
          "3",
          "4",
          "5",
          "6"
         ],
         "tickvals": [
          1,
          2,
          3,
          4,
          5,
          6
         ],
         "title": "iterations",
         "titlefont": {
          "color": "rgba(0, 0, 0, 1.000)",
          "family": "sans-serif",
          "size": 15
         },
         "type": "-",
         "visible": true,
         "zeroline": false,
         "zerolinecolor": "rgba(0, 0, 0, 1.000)"
        },
        "yaxis": {
         "anchor": "x",
         "domain": [
          0.07581474190726165,
          0.9901574803149606
         ],
         "gridcolor": "rgba(0, 0, 0, 0.100)",
         "gridwidth": 0.5,
         "linecolor": "rgba(0, 0, 0, 1.000)",
         "mirror": false,
         "range": [
          0.009987903342268682,
          0.47557658353634785
         ],
         "showgrid": true,
         "showline": true,
         "showticklabels": true,
         "tickangle": 0,
         "tickcolor": "rgb(0, 0, 0)",
         "tickfont": {
          "color": "rgba(0, 0, 0, 1.000)",
          "family": "sans-serif",
          "size": 11
         },
         "tickmode": "array",
         "ticks": "inside",
         "ticktext": [
          "0.1",
          "0.2",
          "0.3",
          "0.4"
         ],
         "tickvals": [
          0.1,
          0.2,
          0.30000000000000004,
          0.4
         ],
         "title": "error",
         "titlefont": {
          "color": "rgba(0, 0, 0, 1.000)",
          "family": "sans-serif",
          "size": 15
         },
         "type": "-",
         "visible": true,
         "zeroline": false,
         "zerolinecolor": "rgba(0, 0, 0, 1.000)"
        }
       }
      },
      "image/png": "[encoded data removed]"
     },
     "metadata": {},
     "output_type": "display_data"
    },
    {
     "data": {
      "text/plain": [
       "\"Last Results\""
      ]
     },
     "metadata": {},
     "output_type": "display_data"
    },
    {
     "name": "stdout",
     "output_type": "stream",
     "text": [
      "Development loss = 0.10547349\n",
      "Development accuracy = 0.9690523581459534\n",
      "Training loss = 0.074234664\n",
      "Training accuracy = 0.976835058539031\n"
     ]
    }
   ],
   "source": [
    "Random.seed!(1)\n",
    "dtrn = pHRIHelper(train_data;shuffled=true);\n",
    "dtst = pHRIHelper(test_data;shuffled=true);\n",
    "model = pHRITrainer(3, 256, 3)\n",
    "display(\"Model Created\")\n",
    "ctrn = []; epochs=5;\n",
    "for b in dtrn\n",
    "   push!(ctrn,b) \n",
    "end\n",
    "trnx10 = collect(flatten(ctrn for i in 1:epochs));\n",
    "display(\"training Started\")\n",
    "model_trained,trnloss,tstloss,trnerror,tsterror = train_custom!(model, trnx10, dtst,dtrn)\n",
    "display(\"training Done\")\n",
    "default(fmt=:png,ls=:auto)\n",
    "loss_graph = plot(1:6, trnloss, label=\"train\", xlabel=\"iterations\", ylabel=\"loss\")\n",
    "plot!(1:6, tstloss, label=\"test\")\n",
    "error_graph = plot(1:6, trnerror, label=\"train\", xlabel=\"iterations\", ylabel=\"error\")\n",
    "plot!(1:6, tsterror, label=\"test\")\n",
    "display(loss_graph)\n",
    "display(error_graph)\n",
    "\n",
    "display(\"Last Results\")\n",
    "dloss = loss(model_trained, dtst)\n",
    "tloss = loss(model_trained, dtrn)\n",
    "dacc = accuracy(model_trained, dtst)\n",
    "tacc = accuracy(model_trained, dtrn)\n",
    "\n",
    "println(\"Development loss = \", dloss)\n",
    "println(\"Development accuracy = \", dacc)\n",
    "println(\"Training loss = \", tloss)\n",
    "println(\"Training accuracy = \", tacc)"
   ]
  },
  {
   "cell_type": "code",
   "execution_count": 48,
   "metadata": {},
   "outputs": [
    {
     "data": {
      "text/plain": [
       "3-element Array{Float64,1}:\n",
       " 0.9866483767718336\n",
       " 0.9883347318011584\n",
       " 0.9809340923119128"
      ]
     },
     "metadata": {},
     "output_type": "display_data"
    },
    {
     "data": {
      "text/plain": [
       "            Expected\n",
       "\n",
       "      1      2      3\n",
       "_____________________\n",
       "  21578    454      0   │1 \n",
       "    130  48293     18   │2 \n",
       "      0    538  14303   │3\tPredicted\n"
      ]
     },
     "metadata": {},
     "output_type": "display_data"
    },
    {
     "data": {
      "text/plain": [
       "0.9875100492738589"
      ]
     },
     "execution_count": 48,
     "metadata": {},
     "output_type": "execute_result"
    }
   ],
   "source": [
    "confusions(model,dtst)"
   ]
  },
  {
   "cell_type": "code",
   "execution_count": 67,
   "metadata": {},
   "outputs": [],
   "source": [
    "include(\"classification_metrics.jl\")\n",
    "export confusion_matrix, class_confusion, visualize, classification_report, condition_positive, condition_negative, predicted_positive,predicted_negative, correctly_classified, incorrectly_classified, sensitivity_score, recall_score, specificity_score, precision_score, positive_predictive_value, accuracy_score, balanced_accuracy_score, negative_predictive_value, false_negative_rate, false_positive_rate, false_discovery_rate, false_omission_rate, f1_score, prevalence_threshold, threat_score, matthews_correlation_coeff, fowlkes_mallows_index, informedness, markedness, cohen_kappa_score, hamming_loss, jaccard_score, confusion_params"
   ]
  },
  {
   "cell_type": "code",
   "execution_count": 50,
   "metadata": {},
   "outputs": [
    {
     "name": "stderr",
     "output_type": "stream",
     "text": [
      "  % Total    % Received % Xferd  Average Speed   Time    Time     Time  Current\n",
      "                                 Dload  Upload   Total   Spent    Left  Speed\n",
      "100     5    0     0  100     5      0      3  0:00:01  0:00:01 --:--:--     3"
     ]
    },
    {
     "name": "stdout",
     "output_type": "stream",
     "text": [
      "{}"
     ]
    },
    {
     "name": "stderr",
     "output_type": "stream",
     "text": [
      "\r",
      "100     7  100     2  100     5      1      2  0:00:02  0:00:01  0:00:01     3\n"
     ]
    },
    {
     "data": {
      "text/plain": [
       "Process(`\u001b[4mcurl\u001b[24m \u001b[4mhttps://notify.run/zrqfxE0M1ypL5Dv4\u001b[24m \u001b[4m-d\u001b[24m \u001b[4mDone!\u001b[24m`, ProcessExited(0))"
      ]
     },
     "execution_count": 50,
     "metadata": {},
     "output_type": "execute_result"
    }
   ],
   "source": [
    "send_message(\"Done!\")"
   ]
  },
  {
   "cell_type": "code",
   "execution_count": null,
   "metadata": {},
   "outputs": [],
   "source": []
  }
 ],
 "metadata": {
  "kernelspec": {
   "display_name": "Julia 1.5.3",
   "language": "julia",
   "name": "julia-1.5"
  },
  "language_info": {
   "file_extension": ".jl",
   "mimetype": "application/julia",
   "name": "julia",
   "version": "1.5.3"
  }
 },
 "nbformat": 4,
 "nbformat_minor": 4
}
